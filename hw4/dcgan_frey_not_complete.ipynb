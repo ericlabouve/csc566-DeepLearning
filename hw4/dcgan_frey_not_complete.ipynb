{
 "cells": [
  {
   "cell_type": "markdown",
   "metadata": {
    "colab_type": "text",
    "id": "hqpLV-_JSTW1"
   },
   "source": [
    "# Generative Adversarial Networks\n",
    "\n",
    "In this homework you will experiment with the [Deep Convolutional Generative Adversarial Network (DCGAN)](https://arxiv.org/pdf/1511.06434.pdf) for representation learning and image generation."
   ]
  },
  {
   "cell_type": "code",
   "execution_count": 1,
   "metadata": {
    "colab": {},
    "colab_type": "code",
    "id": "92hXJ1pXnXoS"
   },
   "outputs": [],
   "source": [
    "import numpy as np\n",
    "import matplotlib as mpl\n",
    "mpl.rc('image', cmap='gray')\n",
    "from matplotlib import pyplot as plt"
   ]
  },
  {
   "cell_type": "markdown",
   "metadata": {
    "colab_type": "text",
    "id": "2gXGvhZ5UNbj"
   },
   "source": [
    "## Data loading and pre-processing\n",
    "\n",
    "Here we download and unpack the Frey dataset.  The dataset consists of grayscale images, 28 pixels high and 20 pixels wide."
   ]
  },
  {
   "cell_type": "code",
   "execution_count": 2,
   "metadata": {
    "colab": {},
    "colab_type": "code",
    "id": "2KYtbT-_s8IN"
   },
   "outputs": [
    {
     "ename": "ImportError",
     "evalue": "Traceback (most recent call last):\n  File \"c:\\users\\eric\\anaconda3\\envs\\tensorflow-gpu\\lib\\site-packages\\tensorflow\\python\\pywrap_tensorflow.py\", line 58, in <module>\n    from tensorflow.python.pywrap_tensorflow_internal import *\n  File \"c:\\users\\eric\\anaconda3\\envs\\tensorflow-gpu\\lib\\site-packages\\tensorflow\\python\\pywrap_tensorflow_internal.py\", line 28, in <module>\n    _pywrap_tensorflow_internal = swig_import_helper()\n  File \"c:\\users\\eric\\anaconda3\\envs\\tensorflow-gpu\\lib\\site-packages\\tensorflow\\python\\pywrap_tensorflow_internal.py\", line 24, in swig_import_helper\n    _mod = imp.load_module('_pywrap_tensorflow_internal', fp, pathname, description)\n  File \"c:\\users\\eric\\anaconda3\\envs\\tensorflow-gpu\\lib\\imp.py\", line 243, in load_module\n    return load_dynamic(name, filename, file)\n  File \"c:\\users\\eric\\anaconda3\\envs\\tensorflow-gpu\\lib\\imp.py\", line 343, in load_dynamic\n    return _load(spec)\nImportError: DLL load failed: The specified module could not be found.\n\n\nFailed to load the native TensorFlow runtime.\n\nSee https://www.tensorflow.org/install/errors\n\nfor some common reasons and solutions.  Include the entire stack trace\nabove this error message when asking for help.",
     "output_type": "error",
     "traceback": [
      "\u001b[1;31m---------------------------------------------------------------------------\u001b[0m",
      "\u001b[1;31mImportError\u001b[0m                               Traceback (most recent call last)",
      "\u001b[1;32mc:\\users\\eric\\anaconda3\\envs\\tensorflow-gpu\\lib\\site-packages\\tensorflow\\python\\pywrap_tensorflow.py\u001b[0m in \u001b[0;36m<module>\u001b[1;34m\u001b[0m\n\u001b[0;32m     57\u001b[0m \u001b[1;33m\u001b[0m\u001b[0m\n\u001b[1;32m---> 58\u001b[1;33m   \u001b[1;32mfrom\u001b[0m \u001b[0mtensorflow\u001b[0m\u001b[1;33m.\u001b[0m\u001b[0mpython\u001b[0m\u001b[1;33m.\u001b[0m\u001b[0mpywrap_tensorflow_internal\u001b[0m \u001b[1;32mimport\u001b[0m \u001b[1;33m*\u001b[0m\u001b[1;33m\u001b[0m\u001b[1;33m\u001b[0m\u001b[0m\n\u001b[0m\u001b[0;32m     59\u001b[0m   \u001b[1;32mfrom\u001b[0m \u001b[0mtensorflow\u001b[0m\u001b[1;33m.\u001b[0m\u001b[0mpython\u001b[0m\u001b[1;33m.\u001b[0m\u001b[0mpywrap_tensorflow_internal\u001b[0m \u001b[1;32mimport\u001b[0m \u001b[0m__version__\u001b[0m\u001b[1;33m\u001b[0m\u001b[1;33m\u001b[0m\u001b[0m\n",
      "\u001b[1;32mc:\\users\\eric\\anaconda3\\envs\\tensorflow-gpu\\lib\\site-packages\\tensorflow\\python\\pywrap_tensorflow_internal.py\u001b[0m in \u001b[0;36m<module>\u001b[1;34m\u001b[0m\n\u001b[0;32m     27\u001b[0m             \u001b[1;32mreturn\u001b[0m \u001b[0m_mod\u001b[0m\u001b[1;33m\u001b[0m\u001b[1;33m\u001b[0m\u001b[0m\n\u001b[1;32m---> 28\u001b[1;33m     \u001b[0m_pywrap_tensorflow_internal\u001b[0m \u001b[1;33m=\u001b[0m \u001b[0mswig_import_helper\u001b[0m\u001b[1;33m(\u001b[0m\u001b[1;33m)\u001b[0m\u001b[1;33m\u001b[0m\u001b[1;33m\u001b[0m\u001b[0m\n\u001b[0m\u001b[0;32m     29\u001b[0m     \u001b[1;32mdel\u001b[0m \u001b[0mswig_import_helper\u001b[0m\u001b[1;33m\u001b[0m\u001b[1;33m\u001b[0m\u001b[0m\n",
      "\u001b[1;32mc:\\users\\eric\\anaconda3\\envs\\tensorflow-gpu\\lib\\site-packages\\tensorflow\\python\\pywrap_tensorflow_internal.py\u001b[0m in \u001b[0;36mswig_import_helper\u001b[1;34m()\u001b[0m\n\u001b[0;32m     23\u001b[0m             \u001b[1;32mtry\u001b[0m\u001b[1;33m:\u001b[0m\u001b[1;33m\u001b[0m\u001b[1;33m\u001b[0m\u001b[0m\n\u001b[1;32m---> 24\u001b[1;33m                 \u001b[0m_mod\u001b[0m \u001b[1;33m=\u001b[0m \u001b[0mimp\u001b[0m\u001b[1;33m.\u001b[0m\u001b[0mload_module\u001b[0m\u001b[1;33m(\u001b[0m\u001b[1;34m'_pywrap_tensorflow_internal'\u001b[0m\u001b[1;33m,\u001b[0m \u001b[0mfp\u001b[0m\u001b[1;33m,\u001b[0m \u001b[0mpathname\u001b[0m\u001b[1;33m,\u001b[0m \u001b[0mdescription\u001b[0m\u001b[1;33m)\u001b[0m\u001b[1;33m\u001b[0m\u001b[1;33m\u001b[0m\u001b[0m\n\u001b[0m\u001b[0;32m     25\u001b[0m             \u001b[1;32mfinally\u001b[0m\u001b[1;33m:\u001b[0m\u001b[1;33m\u001b[0m\u001b[1;33m\u001b[0m\u001b[0m\n",
      "\u001b[1;32mc:\\users\\eric\\anaconda3\\envs\\tensorflow-gpu\\lib\\imp.py\u001b[0m in \u001b[0;36mload_module\u001b[1;34m(name, file, filename, details)\u001b[0m\n\u001b[0;32m    242\u001b[0m         \u001b[1;32melse\u001b[0m\u001b[1;33m:\u001b[0m\u001b[1;33m\u001b[0m\u001b[1;33m\u001b[0m\u001b[0m\n\u001b[1;32m--> 243\u001b[1;33m             \u001b[1;32mreturn\u001b[0m \u001b[0mload_dynamic\u001b[0m\u001b[1;33m(\u001b[0m\u001b[0mname\u001b[0m\u001b[1;33m,\u001b[0m \u001b[0mfilename\u001b[0m\u001b[1;33m,\u001b[0m \u001b[0mfile\u001b[0m\u001b[1;33m)\u001b[0m\u001b[1;33m\u001b[0m\u001b[1;33m\u001b[0m\u001b[0m\n\u001b[0m\u001b[0;32m    244\u001b[0m     \u001b[1;32melif\u001b[0m \u001b[0mtype_\u001b[0m \u001b[1;33m==\u001b[0m \u001b[0mPKG_DIRECTORY\u001b[0m\u001b[1;33m:\u001b[0m\u001b[1;33m\u001b[0m\u001b[1;33m\u001b[0m\u001b[0m\n",
      "\u001b[1;32mc:\\users\\eric\\anaconda3\\envs\\tensorflow-gpu\\lib\\imp.py\u001b[0m in \u001b[0;36mload_dynamic\u001b[1;34m(name, path, file)\u001b[0m\n\u001b[0;32m    342\u001b[0m             name=name, loader=loader, origin=path)\n\u001b[1;32m--> 343\u001b[1;33m         \u001b[1;32mreturn\u001b[0m \u001b[0m_load\u001b[0m\u001b[1;33m(\u001b[0m\u001b[0mspec\u001b[0m\u001b[1;33m)\u001b[0m\u001b[1;33m\u001b[0m\u001b[1;33m\u001b[0m\u001b[0m\n\u001b[0m\u001b[0;32m    344\u001b[0m \u001b[1;33m\u001b[0m\u001b[0m\n",
      "\u001b[1;31mImportError\u001b[0m: DLL load failed: The specified module could not be found.",
      "\nDuring handling of the above exception, another exception occurred:\n",
      "\u001b[1;31mImportError\u001b[0m                               Traceback (most recent call last)",
      "\u001b[1;32m<ipython-input-2-1c77970d2f80>\u001b[0m in \u001b[0;36m<module>\u001b[1;34m\u001b[0m\n\u001b[1;32m----> 1\u001b[1;33m \u001b[1;32mfrom\u001b[0m \u001b[0mtensorflow\u001b[0m\u001b[1;33m.\u001b[0m\u001b[0mkeras\u001b[0m\u001b[1;33m.\u001b[0m\u001b[0mutils\u001b[0m \u001b[1;32mimport\u001b[0m \u001b[0mget_file\u001b[0m\u001b[1;33m\u001b[0m\u001b[1;33m\u001b[0m\u001b[0m\n\u001b[0m\u001b[0;32m      2\u001b[0m \u001b[1;32mfrom\u001b[0m \u001b[0mscipy\u001b[0m\u001b[1;33m.\u001b[0m\u001b[0mio\u001b[0m \u001b[1;32mimport\u001b[0m \u001b[0mloadmat\u001b[0m\u001b[1;33m\u001b[0m\u001b[1;33m\u001b[0m\u001b[0m\n\u001b[0;32m      3\u001b[0m \u001b[1;33m\u001b[0m\u001b[0m\n\u001b[0;32m      4\u001b[0m \u001b[0mpath\u001b[0m \u001b[1;33m=\u001b[0m \u001b[0mget_file\u001b[0m\u001b[1;33m(\u001b[0m\u001b[1;34m'frey_rawface.mat'\u001b[0m\u001b[1;33m,\u001b[0m\u001b[1;34m'https://cs.nyu.edu/~roweis/data/frey_rawface.mat'\u001b[0m\u001b[1;33m)\u001b[0m\u001b[1;33m\u001b[0m\u001b[1;33m\u001b[0m\u001b[0m\n\u001b[0;32m      5\u001b[0m \u001b[0mdata\u001b[0m \u001b[1;33m=\u001b[0m \u001b[0mnp\u001b[0m\u001b[1;33m.\u001b[0m\u001b[0mtranspose\u001b[0m\u001b[1;33m(\u001b[0m\u001b[0mloadmat\u001b[0m\u001b[1;33m(\u001b[0m\u001b[0mpath\u001b[0m\u001b[1;33m)\u001b[0m\u001b[1;33m[\u001b[0m\u001b[1;34m'ff'\u001b[0m\u001b[1;33m]\u001b[0m\u001b[1;33m)\u001b[0m\u001b[1;33m\u001b[0m\u001b[1;33m\u001b[0m\u001b[0m\n",
      "\u001b[1;32mc:\\users\\eric\\anaconda3\\envs\\tensorflow-gpu\\lib\\site-packages\\tensorflow\\__init__.py\u001b[0m in \u001b[0;36m<module>\u001b[1;34m\u001b[0m\n\u001b[0;32m     22\u001b[0m \u001b[1;33m\u001b[0m\u001b[0m\n\u001b[0;32m     23\u001b[0m \u001b[1;31m# pylint: disable=g-bad-import-order\u001b[0m\u001b[1;33m\u001b[0m\u001b[1;33m\u001b[0m\u001b[1;33m\u001b[0m\u001b[0m\n\u001b[1;32m---> 24\u001b[1;33m \u001b[1;32mfrom\u001b[0m \u001b[0mtensorflow\u001b[0m\u001b[1;33m.\u001b[0m\u001b[0mpython\u001b[0m \u001b[1;32mimport\u001b[0m \u001b[0mpywrap_tensorflow\u001b[0m  \u001b[1;31m# pylint: disable=unused-import\u001b[0m\u001b[1;33m\u001b[0m\u001b[1;33m\u001b[0m\u001b[0m\n\u001b[0m\u001b[0;32m     25\u001b[0m \u001b[1;33m\u001b[0m\u001b[0m\n\u001b[0;32m     26\u001b[0m \u001b[1;32mtry\u001b[0m\u001b[1;33m:\u001b[0m\u001b[1;33m\u001b[0m\u001b[1;33m\u001b[0m\u001b[0m\n",
      "\u001b[1;32mc:\\users\\eric\\anaconda3\\envs\\tensorflow-gpu\\lib\\site-packages\\tensorflow\\python\\__init__.py\u001b[0m in \u001b[0;36m<module>\u001b[1;34m\u001b[0m\n\u001b[0;32m     47\u001b[0m \u001b[1;32mimport\u001b[0m \u001b[0mnumpy\u001b[0m \u001b[1;32mas\u001b[0m \u001b[0mnp\u001b[0m\u001b[1;33m\u001b[0m\u001b[1;33m\u001b[0m\u001b[0m\n\u001b[0;32m     48\u001b[0m \u001b[1;33m\u001b[0m\u001b[0m\n\u001b[1;32m---> 49\u001b[1;33m \u001b[1;32mfrom\u001b[0m \u001b[0mtensorflow\u001b[0m\u001b[1;33m.\u001b[0m\u001b[0mpython\u001b[0m \u001b[1;32mimport\u001b[0m \u001b[0mpywrap_tensorflow\u001b[0m\u001b[1;33m\u001b[0m\u001b[1;33m\u001b[0m\u001b[0m\n\u001b[0m\u001b[0;32m     50\u001b[0m \u001b[1;33m\u001b[0m\u001b[0m\n\u001b[0;32m     51\u001b[0m \u001b[1;32mfrom\u001b[0m \u001b[0mtensorflow\u001b[0m\u001b[1;33m.\u001b[0m\u001b[0mpython\u001b[0m\u001b[1;33m.\u001b[0m\u001b[0mtools\u001b[0m \u001b[1;32mimport\u001b[0m \u001b[0mcomponent_api_helper\u001b[0m\u001b[1;33m\u001b[0m\u001b[1;33m\u001b[0m\u001b[0m\n",
      "\u001b[1;32mc:\\users\\eric\\anaconda3\\envs\\tensorflow-gpu\\lib\\site-packages\\tensorflow\\python\\pywrap_tensorflow.py\u001b[0m in \u001b[0;36m<module>\u001b[1;34m\u001b[0m\n\u001b[0;32m     72\u001b[0m \u001b[1;32mfor\u001b[0m \u001b[0msome\u001b[0m \u001b[0mcommon\u001b[0m \u001b[0mreasons\u001b[0m \u001b[1;32mand\u001b[0m \u001b[0msolutions\u001b[0m\u001b[1;33m.\u001b[0m  \u001b[0mInclude\u001b[0m \u001b[0mthe\u001b[0m \u001b[0mentire\u001b[0m \u001b[0mstack\u001b[0m \u001b[0mtrace\u001b[0m\u001b[1;33m\u001b[0m\u001b[1;33m\u001b[0m\u001b[0m\n\u001b[0;32m     73\u001b[0m above this error message when asking for help.\"\"\" % traceback.format_exc()\n\u001b[1;32m---> 74\u001b[1;33m   \u001b[1;32mraise\u001b[0m \u001b[0mImportError\u001b[0m\u001b[1;33m(\u001b[0m\u001b[0mmsg\u001b[0m\u001b[1;33m)\u001b[0m\u001b[1;33m\u001b[0m\u001b[1;33m\u001b[0m\u001b[0m\n\u001b[0m\u001b[0;32m     75\u001b[0m \u001b[1;33m\u001b[0m\u001b[0m\n\u001b[0;32m     76\u001b[0m \u001b[1;31m# pylint: enable=wildcard-import,g-import-not-at-top,unused-import,line-too-long\u001b[0m\u001b[1;33m\u001b[0m\u001b[1;33m\u001b[0m\u001b[1;33m\u001b[0m\u001b[0m\n",
      "\u001b[1;31mImportError\u001b[0m: Traceback (most recent call last):\n  File \"c:\\users\\eric\\anaconda3\\envs\\tensorflow-gpu\\lib\\site-packages\\tensorflow\\python\\pywrap_tensorflow.py\", line 58, in <module>\n    from tensorflow.python.pywrap_tensorflow_internal import *\n  File \"c:\\users\\eric\\anaconda3\\envs\\tensorflow-gpu\\lib\\site-packages\\tensorflow\\python\\pywrap_tensorflow_internal.py\", line 28, in <module>\n    _pywrap_tensorflow_internal = swig_import_helper()\n  File \"c:\\users\\eric\\anaconda3\\envs\\tensorflow-gpu\\lib\\site-packages\\tensorflow\\python\\pywrap_tensorflow_internal.py\", line 24, in swig_import_helper\n    _mod = imp.load_module('_pywrap_tensorflow_internal', fp, pathname, description)\n  File \"c:\\users\\eric\\anaconda3\\envs\\tensorflow-gpu\\lib\\imp.py\", line 243, in load_module\n    return load_dynamic(name, filename, file)\n  File \"c:\\users\\eric\\anaconda3\\envs\\tensorflow-gpu\\lib\\imp.py\", line 343, in load_dynamic\n    return _load(spec)\nImportError: DLL load failed: The specified module could not be found.\n\n\nFailed to load the native TensorFlow runtime.\n\nSee https://www.tensorflow.org/install/errors\n\nfor some common reasons and solutions.  Include the entire stack trace\nabove this error message when asking for help."
     ]
    }
   ],
   "source": [
    "from tensorflow.keras.utils import get_file\n",
    "from scipy.io import loadmat\n",
    "\n",
    "path = get_file('frey_rawface.mat','https://cs.nyu.edu/~roweis/data/frey_rawface.mat')\n",
    "data = np.transpose(loadmat(path)['ff'])\n",
    "images = np.reshape(data,(-1,28,20))\n",
    "np.random.seed(1234)\n",
    "np.random.shuffle(images)\n",
    "x_train = (images.astype('float32')/255.)*2-1\n",
    "x_train = np.expand_dims(x_train,axis=-1)"
   ]
  },
  {
   "cell_type": "code",
   "execution_count": 10,
   "metadata": {
    "colab": {
     "base_uri": "https://localhost:8080/",
     "height": 236
    },
    "colab_type": "code",
    "executionInfo": {
     "elapsed": 1285,
     "status": "ok",
     "timestamp": 1549921962188,
     "user": {
      "displayName": "Jonathan Ventura",
      "photoUrl": "",
      "userId": "05473917219245109052"
     },
     "user_tz": 480
    },
    "id": "DeCK7U-stU4V",
    "outputId": "8210798d-4da0-40fc-9d1a-7f31c91eebf6"
   },
   "outputs": [
    {
     "name": "stdout",
     "output_type": "stream",
     "text": [
      "(1965, 28, 20)\n"
     ]
    },
    {
     "data": {
      "image/png": "[encoded data removed]",
      "text/plain": [
       "<Figure size 576x396 with 5 Axes>"
      ]
     },
     "metadata": {
      "tags": []
     },
     "output_type": "display_data"
    }
   ],
   "source": [
    "print(images.shape)\n",
    "for i in range(5):\n",
    "  plt.subplot(1,5,i+1)\n",
    "  plt.imshow(images[i])\n",
    "  plt.axis('off')\n",
    "plt.show()"
   ]
  },
  {
   "cell_type": "markdown",
   "metadata": {
    "colab_type": "text",
    "id": "tWqSOmXoUnr7"
   },
   "source": [
    "## Model implementation and training\n",
    "\n",
    "I have given the implementation of the DCGAN here.  It is a bit tricky to set up with Keras."
   ]
  },
  {
   "cell_type": "code",
   "execution_count": 14,
   "metadata": {
    "colab": {
     "base_uri": "https://localhost:8080/",
     "height": 796
    },
    "colab_type": "code",
    "executionInfo": {
     "elapsed": 1606,
     "status": "ok",
     "timestamp": 1549922051920,
     "user": {
      "displayName": "Jonathan Ventura",
      "photoUrl": "",
      "userId": "05473917219245109052"
     },
     "user_tz": 480
    },
    "id": "dFgiO2UJuLpg",
    "outputId": "7a7cf5e0-8d35-4357-dabc-6b643e4d85e3"
   },
   "outputs": [
    {
     "name": "stdout",
     "output_type": "stream",
     "text": [
      "_________________________________________________________________\n",
      "Layer (type)                 Output Shape              Param #   \n",
      "=================================================================\n",
      "input_7 (InputLayer)         (None, 100)               0         \n",
      "_________________________________________________________________\n",
      "dense_4 (Dense)              (None, 2240)              226240    \n",
      "_________________________________________________________________\n",
      "reshape_2 (Reshape)          (None, 7, 5, 64)          0         \n",
      "_________________________________________________________________\n",
      "conv2d_transpose_4 (Conv2DTr (None, 14, 10, 32)        32800     \n",
      "_________________________________________________________________\n",
      "leaky_re_lu_6 (LeakyReLU)    (None, 14, 10, 32)        0         \n",
      "_________________________________________________________________\n",
      "conv2d_transpose_5 (Conv2DTr (None, 28, 20, 1)         513       \n",
      "=================================================================\n",
      "Total params: 259,553\n",
      "Trainable params: 259,553\n",
      "Non-trainable params: 0\n",
      "_________________________________________________________________\n",
      "None\n",
      "_________________________________________________________________\n",
      "Layer (type)                 Output Shape              Param #   \n",
      "=================================================================\n",
      "input_8 (InputLayer)         (None, 28, 20, 1)         0         \n",
      "_________________________________________________________________\n",
      "conv2d_4 (Conv2D)            (None, 14, 10, 32)        544       \n",
      "_________________________________________________________________\n",
      "leaky_re_lu_7 (LeakyReLU)    (None, 14, 10, 32)        0         \n",
      "_________________________________________________________________\n",
      "conv2d_5 (Conv2D)            (None, 7, 5, 64)          32832     \n",
      "_________________________________________________________________\n",
      "leaky_re_lu_8 (LeakyReLU)    (None, 7, 5, 64)          0         \n",
      "_________________________________________________________________\n",
      "flatten_2 (Flatten)          (None, 2240)              0         \n",
      "_________________________________________________________________\n",
      "dense_5 (Dense)              (None, 1)                 2241      \n",
      "=================================================================\n",
      "Total params: 71,234\n",
      "Trainable params: 35,617\n",
      "Non-trainable params: 35,617\n",
      "_________________________________________________________________\n",
      "None\n"
     ]
    }
   ],
   "source": [
    "from tensorflow.keras.layers import Input, Flatten, Dense, Conv2D, Conv2DTranspose, Reshape, Lambda, LeakyReLU, BatchNormalization, Activation\n",
    "from tensorflow.keras.models import Model\n",
    "from tensorflow.keras.optimizers import SGD, Adam\n",
    "from tensorflow.keras.losses import mse\n",
    "import tensorflow.keras.backend as K\n",
    "\n",
    "from tqdm.autonotebook import trange\n",
    "\n",
    "def get_generator():\n",
    "  \"\"\" Builds the generator network that converts noise into images. \"\"\"\n",
    "  \n",
    "   # Input is a 100-dimensional latent vector\n",
    "  inputs = Input((100,))\n",
    "  \n",
    "  # Fully-connected layer to transform noise into a tensor\n",
    "  x = Dense(7*5*64,activation='relu')(inputs) \n",
    "  \n",
    "  # Reshape into a 4x4x512 tensor\n",
    "  x = Reshape((7,5,64))(x)\n",
    "  \n",
    "  # Transposed convolutions to upsample tensor\n",
    "  x = Conv2DTranspose(32,4,strides=2,activation=None,padding='same')(x)\n",
    "  x = LeakyReLU(alpha=0.1)(x)\n",
    "\n",
    "  outputs = Conv2DTranspose(1,4,strides=2,activation='tanh',padding='same')(x)\n",
    "  \n",
    "  return Model(inputs=inputs,outputs=outputs)\n",
    "   \n",
    "def get_discriminator():\n",
    "  \"\"\" Builds the discriminator network which tries to discriminate real images from fakes. \"\"\"\n",
    "  # Input is a 64x64 image\n",
    "  inputs = Input((28,20,1))\n",
    "  \n",
    "  # Strided convolutions to downsample\n",
    "  x = Conv2D(32,4,strides=2,activation=None,padding='same')(inputs)  \n",
    "  x = LeakyReLU(alpha=0.1)(x)\n",
    "  x = Conv2D(64,4,strides=2,activation=None,padding='same')(x)\n",
    "  x = LeakyReLU(alpha=0.1)(x)\n",
    "\n",
    "  # Final output with sigmoid activation for binary classification\n",
    "  x = Flatten()(x)\n",
    "  outputs = Dense(1,activation='sigmoid')(x)\n",
    "  \n",
    "  return Model(inputs=inputs,outputs=outputs)\n",
    "\n",
    "def setup_gan_training(generator,discriminator):\n",
    "  g_opt = Adam(lr=0.0002,beta_1=0.5,beta_2=0.999,epsilon=1e-3)\n",
    "  d_opt = Adam(lr=0.0002,beta_1=0.5,beta_2=0.999,epsilon=1e-3)\n",
    "\n",
    "  generator.compile(loss='binary_crossentropy',optimizer=g_opt)\n",
    "  discriminator.compile(loss='binary_crossentropy',optimizer=d_opt)\n",
    "\n",
    "  discriminator.trainable = False\n",
    "  inputs = Input((100,))\n",
    "  x = generator(inputs)\n",
    "  outputs = discriminator(x)\n",
    "  \n",
    "  d_on_g = Model(inputs=inputs,outputs=outputs)\n",
    "  d_on_g.compile(loss='binary_crossentropy',optimizer=g_opt)\n",
    "  \n",
    "  return d_on_g\n",
    "\n",
    "def sample_from_generator(generator):\n",
    "  noise_input = np.random.normal(size=(32,100))\n",
    "  x_fake = np.squeeze(generator.predict(noise_input))\n",
    "  n = 0\n",
    "  for i in range(4):\n",
    "    for j in range(8):\n",
    "      plt.subplot(4,8,n+1)\n",
    "      plt.imshow(x_fake[n])\n",
    "      plt.axis('off')\n",
    "      n = n+1\n",
    "  plt.show()\n",
    "\n",
    "def train_gan(generator, discriminator, d_on_g,\n",
    "              x, num_epochs=100, batch_size=64):\n",
    "  num_batches = len(x) // batch_size\n",
    "    \n",
    "  gen_loss_history = []\n",
    "  discrim_loss_history = []\n",
    "    \n",
    "  for i in range(num_epochs):\n",
    "    inds = np.arange(len(x))\n",
    "    np.random.shuffle(inds)\n",
    "        \n",
    "    for j in trange(num_batches):\n",
    "      noise_input = np.random.normal(size=(batch_size, 100))\n",
    "            \n",
    "      x_real = x[inds[(j*batch_size):((j+1)*batch_size)]]\n",
    "      y_real = [1]*batch_size\n",
    "\n",
    "      x_fake = generator.predict(noise_input, batch_size=batch_size)\n",
    "      y_fake = [0]*batch_size\n",
    "\n",
    "      discriminator.trainable = True\n",
    "      real_loss = discriminator.train_on_batch(x_real, y_real)\n",
    "      fake_loss = discriminator.train_on_batch(x_fake, y_fake)\n",
    "      discrim_loss = 0.5*(real_loss + fake_loss)\n",
    "      \n",
    "      x_generator = np.random.normal(size=(batch_size, 100))\n",
    "      y_generator = [1]*batch_size\n",
    "      discriminator.trainable = False\n",
    "      gen_loss = d_on_g.train_on_batch(x_generator, y_generator)\n",
    "\n",
    "      gen_loss_history.append(gen_loss)\n",
    "      discrim_loss_history.append(discrim_loss)\n",
    "    print('epoch %d: discriminator loss: %.2f\\tgenerator loss: %.2f'%(i+1,discrim_loss,gen_loss))\n",
    "    sample_from_generator(generator)\n",
    "    \n",
    "  return gen_loss_history, discrim_loss_history\n",
    "\n",
    "generator = get_generator()\n",
    "discriminator = get_discriminator()\n",
    "d_on_g = setup_gan_training(generator,discriminator)\n",
    "\n",
    "print(generator.summary())\n",
    "print(discriminator.summary())\n"
   ]
  },
  {
   "cell_type": "code",
   "execution_count": 15,
   "metadata": {
    "colab": {
     "base_uri": "https://localhost:8080/",
     "height": 36771,
     "output_embedded_package_id": "1Ry8pZ3BfFyW98xRHCN0hjN6zqPbMwBMC"
    },
    "colab_type": "code",
    "executionInfo": {
     "elapsed": 477678,
     "status": "ok",
     "timestamp": 1549922528660,
     "user": {
      "displayName": "Jonathan Ventura",
      "photoUrl": "",
      "userId": "05473917219245109052"
     },
     "user_tz": 480
    },
    "id": "HWjMe2-ORKA0",
    "outputId": "7c2f3f9f-0a23-4c0f-b20f-395538fdf736"
   },
   "outputs": [
    {
     "data": {
      "text/plain": [
       "Output hidden; open in https://colab.research.google.com to view."
      ]
     },
     "metadata": {},
     "output_type": "display_data"
    }
   ],
   "source": [
    "gen_loss_history, discrim_loss_history = train_gan(generator,discriminator,d_on_g,x_train)"
   ]
  },
  {
   "cell_type": "code",
   "execution_count": 23,
   "metadata": {
    "colab": {
     "base_uri": "https://localhost:8080/",
     "height": 422
    },
    "colab_type": "code",
    "executionInfo": {
     "elapsed": 592,
     "status": "ok",
     "timestamp": 1549923182308,
     "user": {
      "displayName": "Jonathan Ventura",
      "photoUrl": "",
      "userId": "05473917219245109052"
     },
     "user_tz": 480
    },
    "id": "P9FvSz1KvNO9",
    "outputId": "766e6d30-f9c5-4677-b41f-fe2ef30a0ddb"
   },
   "outputs": [
    {
     "data": {
      "image/png": "[encoded data removed]",
      "text/plain": [
       "<Figure size 576x396 with 1 Axes>"
      ]
     },
     "metadata": {
      "tags": []
     },
     "output_type": "display_data"
    }
   ],
   "source": [
    "plt.plot(discrim_loss_history)\n",
    "plt.plot(gen_loss_history)\n",
    "plt.xlabel('step')\n",
    "plt.ylabel('loss')\n",
    "plt.legend(['discrim loss','gen loss'])\n",
    "plt.show()"
   ]
  },
  {
   "cell_type": "markdown",
   "metadata": {
    "colab_type": "text",
    "id": "FUZVkUU63r7q"
   },
   "source": [
    "## Exercises\n",
    "\n",
    "* Try to improve the DCGAN -- can you get the reconstructed images to look sharper and less noisy?  Possible things to try: change # of parameters in generator discriminator; change type of optimzer / learning rate; change batch size or other hyperparameters.\n",
    "* Do you see evidence of mode collapse in the results of GAN training?  Does the generator seem to be able to generate everything that is in the training set?\n",
    "* Try the Least Squares GAN (LSGAN) -- this simply means changing the loss function to be mean squared error rather than binary crossentropy.  Is there any effect on the GAN training or results?\n",
    "* Train a DCGAN on the LFW dataset and analyze the results.  I put a loader below which resizes and crops to 28x20."
   ]
  },
  {
   "cell_type": "code",
   "execution_count": 22,
   "metadata": {
    "colab": {
     "base_uri": "https://localhost:8080/",
     "height": 270
    },
    "colab_type": "code",
    "executionInfo": {
     "elapsed": 5892,
     "status": "ok",
     "timestamp": 1549923169158,
     "user": {
      "displayName": "Jonathan Ventura",
      "photoUrl": "",
      "userId": "05473917219245109052"
     },
     "user_tz": 480
    },
    "id": "hBLiuYT0nnjc",
    "outputId": "56453ee2-a7d4-44a2-eee2-3ed15967c5f4"
   },
   "outputs": [
    {
     "name": "stdout",
     "output_type": "stream",
     "text": [
      "Archive:  /root/.keras/datasets/lfwcrop_grey.zip\n",
      "replace lfwcrop_grey/lists/07_test_same.txt? [y]es, [n]o, [A]ll, [N]one, [r]ename: N\n",
      "(13233, 28, 20)\n"
     ]
    },
    {
     "data": {
      "image/png": "[encoded data removed]",
      "text/plain": [
       "<Figure size 576x396 with 5 Axes>"
      ]
     },
     "metadata": {
      "tags": []
     },
     "output_type": "display_data"
    }
   ],
   "source": [
    "from tensorflow.keras.utils import get_file\n",
    "import cv2\n",
    "import glob\n",
    "\n",
    "# download cropped images from LFW\n",
    "path = get_file('lfwcrop_grey.zip','http://conradsanderson.id.au/lfwcrop/lfwcrop_grey.zip')\n",
    "\n",
    "# unzip them\n",
    "!unzip /root/.keras/datasets/lfwcrop_grey.zip\n",
    "\n",
    "# load all images\n",
    "def load_and_crop(path):\n",
    "  im = cv2.imread(path,0)\n",
    "  im = cv2.resize(im,(28,28))\n",
    "  im = im[:,4:-4]\n",
    "  return im\n",
    "images = np.stack([load_and_crop(path) for path in glob.glob('lfwcrop_grey/faces/*.pgm')])\n",
    "\n",
    "# change to [-1 1] range\n",
    "x_train = (images.astype('float32')/255.)*2-1\n",
    "x_train = np.expand_dims(x_train,axis=-1)\n",
    "\n",
    "# show images\n",
    "print(images.shape)\n",
    "for i in range(5):\n",
    "  plt.subplot(1,5,i+1)\n",
    "  plt.imshow(images[i])\n",
    "  plt.axis('off')\n",
    "plt.show()"
   ]
  },
  {
   "cell_type": "code",
   "execution_count": 0,
   "metadata": {
    "colab": {},
    "colab_type": "code",
    "id": "kRQwnaD1nOwO"
   },
   "outputs": [],
   "source": []
  }
 ],
 "metadata": {
  "accelerator": "GPU",
  "colab": {
   "collapsed_sections": [],
   "name": "dcgan_frey.ipynb",
   "provenance": [],
   "version": "0.3.2"
  },
  "kernelspec": {
   "display_name": "Python 3",
   "language": "python",
   "name": "python3"
  },
  "language_info": {
   "codemirror_mode": {
    "name": "ipython",
    "version": 3
   },
   "file_extension": ".py",
   "mimetype": "text/x-python",
   "name": "python",
   "nbconvert_exporter": "python",
   "pygments_lexer": "ipython3",
   "version": "3.6.8"
  }
 },
 "nbformat": 4,
 "nbformat_minor": 1
}
