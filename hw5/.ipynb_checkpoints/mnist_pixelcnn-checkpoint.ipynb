{
 "cells": [
  {
   "cell_type": "markdown",
   "metadata": {
    "colab_type": "text",
    "id": "pIilF79ZjANb"
   },
   "source": [
    "# Homework 4: PixelCNN\n",
    "\n",
    "In this homework you will implement a simplified version of the [PixelCNN](https://arxiv.org/pdf/1601.06759.pdf) network and train it on zero digits from the MNIST dataset."
   ]
  },
  {
   "cell_type": "code",
   "execution_count": 1,
   "metadata": {
    "colab": {},
    "colab_type": "code",
    "id": "Sh1JAoiDwZIr"
   },
   "outputs": [],
   "source": [
    "import numpy as np\n",
    "import matplotlib as mpl\n",
    "mpl.rc('image', cmap='gray')\n",
    "from matplotlib import pyplot as plt"
   ]
  },
  {
   "cell_type": "markdown",
   "metadata": {
    "colab_type": "text",
    "id": "Ra9PxG6rjbvG"
   },
   "source": [
    "Here we load the MNIST dataset, select only zero digits, and \"binarize\" them so that the pixels are strictly ones and zeros."
   ]
  },
  {
   "cell_type": "code",
   "execution_count": 2,
   "metadata": {
    "colab": {},
    "colab_type": "code",
    "id": "Cq4V6jwLwByO"
   },
   "outputs": [],
   "source": [
    "from tensorflow.keras.datasets import mnist\n",
    "\n",
    "# load dataset\n",
    "(x_train, y_train), (x_test, y_test) = mnist.load_data()\n",
    "\n",
    "# select only zero digits\n",
    "x_train = x_train[y_train==0]\n",
    "x_test = x_test[y_test==0]\n",
    "\n",
    "# binarize the data\n",
    "def binarize(x):\n",
    "  return x > 0.5\n",
    "\n",
    "x_train = binarize(x_train)\n",
    "x_test = binarize(x_test)\n",
    "\n",
    "# add a fourth dimension for use in Keras\n",
    "x_train = np.expand_dims(x_train,axis=-1)\n",
    "x_test = np.expand_dims(x_test,axis=-1)"
   ]
  },
  {
   "cell_type": "code",
   "execution_count": 3,
   "metadata": {
    "colab": {},
    "colab_type": "code",
    "id": "JKZMxojWwM2Y"
   },
   "outputs": [
    {
     "name": "stdout",
     "output_type": "stream",
     "text": [
      "binarized mnist images:\n"
     ]
    },
    {
     "data": {
      "image/png": "[encoded data removed]",
      "text/plain": [
       "<Figure size 432x288 with 5 Axes>"
      ]
     },
     "metadata": {
      "needs_background": "light"
     },
     "output_type": "display_data"
    }
   ],
   "source": [
    "def show_as_image(x):\n",
    "  \"\"\" Convenience function to properly show an image. \"\"\"\n",
    "  plt.imshow(np.squeeze(x),cmap='gray')\n",
    "  plt.axis('off')\n",
    "\n",
    "def show_grid_of_images(x):\n",
    "  \"\"\" Convenience function to show five images in a row. \"\"\"\n",
    "  for i in range(5):\n",
    "    plt.subplot(1,5,i+1)\n",
    "    show_as_image(x[i])\n",
    "  plt.show()\n",
    "  \n",
    "print('binarized mnist images:')\n",
    "show_grid_of_images(x_train[:5])"
   ]
  },
  {
   "cell_type": "markdown",
   "metadata": {
    "colab_type": "text",
    "id": "ARr7u1XZj5ZG"
   },
   "source": [
    "### PixelCNN implementation\n",
    "\n",
    "Here is where you will implement the [PixelCNN](https://arxiv.org/pdf/1601.06759.pdf) model.\n",
    "\n",
    "The concept of the PixelCNN is to create a convolutoinal neural network that outputs a probability distribution **at each pixel** conditioned on all the pixels that precede it.  We consider the pixels in the image to be in row-major order (left-to-right, top-to-bottom).\n",
    "\n",
    "So, the network outputs\n",
    "\n",
    "$$p(x_i|x_1,\\ldots,x_{i-1})$$\n",
    "\n",
    "for each pixel $x_i$.  The predictions are done in parallel; the network takes as input the entire image $x_1,\\ldots,x_n$ and outputs $p(x_i|x_1,\\ldots,x_{i-1})$ at each location $i$.\n",
    "\n",
    "If we used a traditional CNN with convolutional filter kernels, the network output at location $i$ would be able to see pixels \"in the future,\" that is, pixels $x_i,\\ldots,x_n$.  To prevent this, we need to **mask** the filter kernels so that they cannot see pixels $x_i,\\ldots,x_n$.\n",
    "\n",
    "The PixelCNN replaces the typical 2D convolution with a **masked** convolution that is not allowed to look at pixels **after** the center pixel under the filter window.  The very first convolution in the network should not look at the center pixel; later convolutions are allowed to look at the center pixel.\n",
    "\n",
    "The masked convolution is implemented by multiplying the filter kernel with a mask of ones and zeros.  For a $5\\times5$ filter kernel, the mask for the first convolution would be:\n",
    "\n",
    "1 1 1 1 1\n",
    "\n",
    "1 1 1 1 1\n",
    "\n",
    "1 1 0 0 0\n",
    "\n",
    "0 0 0 0 0\n",
    "\n",
    "0 0 0 0 0\n",
    "\n",
    "and the mask for the remaining convolutions would be:\n",
    "\n",
    "1 1 1 1 1\n",
    "\n",
    "1 1 1 1 1\n",
    "\n",
    "1 1 1 0 0\n",
    "\n",
    "0 0 0 0 0\n",
    "\n",
    "0 0 0 0 0\n",
    "\n",
    "The architecture should have the following pattern:\n",
    "\n",
    "* Masked Conv2D with center pixel masking, 7x7 filter, K outputs + ReLU activation\n",
    "* Repeat N times:\n",
    "Masked Conv2D without center pixel masking, 5x5 filter, K outputs + ReLU activation\n",
    "* Conv2D, 1x1 filter, 1 output + sigmoid activation\n",
    "\n",
    "Use 'same' padding for all convolutions.  The image size (28x28) should not change throughout the network.\n",
    "\n",
    "Note that the final 1x1 convolution does not need to be masked, since it only looks at the center pixel.\n",
    "\n",
    "I used N=12, K=32 but you are welcome to experiment with other settings.  The training took ~5 minutes per epoch for me.\n",
    "\n",
    "I provided a partial implementation of the MaskedConv2D layer definition; you need to fill in the part that creates the mask.\n",
    "\n",
    "\n",
    "\n"
   ]
  },
  {
   "cell_type": "code",
   "execution_count": 0,
   "metadata": {
    "colab": {},
    "colab_type": "code",
    "id": "FeS9U8gXwXik"
   },
   "outputs": [],
   "source": [
    "import tensorflow as tf\n",
    "from tensorflow.keras.models import Model\n",
    "from tensorflow.keras.layers import Input, Conv2D, ZeroPadding2D, Cropping2D, Concatenate, Add, Activation, Lambda\n",
    "import tensorflow.keras.backend as K\n",
    "\n",
    "class MaskedConv2D(Conv2D):\n",
    "  \"\"\" Masked 2D Convolution layer based on Conv2D from Keras \"\"\"\n",
    "  \n",
    "  def __init__(self, mask_center_pixel, **kwargs):\n",
    "    \"\"\" If mask_center_pixel is True, center pixel will be masked out\n",
    "        so that the filter cannot see it.\n",
    "    \"\"\"\n",
    "    super(MaskedConv2D, self).__init__(**kwargs)\n",
    "    self.mask_center_pixel = mask_center_pixel\n",
    "\n",
    "  def call(self, inputs):\n",
    "    # create a mask which will be multiplied with the filter kernel below\n",
    "    #\n",
    "    # the kernel has size (kernel_height,kernel_width,channels_in,channels_out)\n",
    "    #\n",
    "    # we will make a mask with size (kernel_height,kernel_width,1,1)\n",
    "    # so that when we multiply\n",
    "    #\n",
    "    # masked_kernel = self.kernel * mask\n",
    "    #\n",
    "    # the mask will be applied across all input and output channels\n",
    "    #\n",
    "    # note that self.kernel_size = (kernel_height,kernel_width)\n",
    "    mask = np.ones(self.kernel_size + (1,1))\n",
    "    \n",
    "    # !!!!!!!!!!!!!!!!!!!!!!!!!!!!!!!!!!!!!!!!!!!!!!!!!\n",
    "    # TODO: you need to set the mask appropriately here\n",
    "    # !!!!!!!!!!!!!!!!!!!!!!!!!!!!!!!!!!!!!!!!!!!!!!!!!\n",
    "\n",
    "    # apply the mask to the kernel\n",
    "    masked_kernel = self.kernel * mask\n",
    "    \n",
    "    # run the convolution operation\n",
    "    outputs = K.conv2d(\n",
    "      inputs,\n",
    "      masked_kernel,\n",
    "      strides=self.strides,\n",
    "      padding='same',\n",
    "      data_format=self.data_format,\n",
    "      dilation_rate=self.dilation_rate)\n",
    "\n",
    "    # add bias\n",
    "    if self.use_bias:\n",
    "      outputs = K.bias_add(\n",
    "        outputs,\n",
    "        self.bias,\n",
    "        data_format=self.data_format)\n",
    "\n",
    "    # apply activation\n",
    "    if self.activation is not None:\n",
    "      return self.activation(outputs)\n",
    "    \n",
    "    # return result\n",
    "    return outputs\n",
    "\n",
    "# create the model here\n",
    "# you can create a masked conv 2D layer with x = MaskedConv2D(...)(x)\n",
    "# just like the normal Keras layers\n"
   ]
  },
  {
   "cell_type": "markdown",
   "metadata": {
    "colab_type": "text",
    "id": "yBn4fSwDo7kp"
   },
   "source": [
    "### Sampling from the PixelCNN model\n",
    "\n",
    "To sample from the PixelCNN, we need to sample each pixel sequentially in row-major order, starting from the top-left and working towards the bottom-right.\n",
    "\n",
    "So, we will sample the pixels like this:\n",
    "\n",
    "$$x_1 \\sim p(x_1)$$\n",
    "$$x_2 \\sim p(x_2|x_1)$$\n",
    "$$x_3 \\sim p(x_3|x_1,x_2)$$\n",
    "$$\\vdots$$\n",
    "$$x_n \\sim p(x_n|x_1,\\ldots,x_{n-1})$$\n",
    "\n",
    "Remember that the network outputs all of the conditional probabilities at once, but we only need one of the output values at each step.\n",
    "\n",
    "At each step, you will call model.predict(image) to get the predicted probability of each pixel being equal to one.  Then you can select the probability value for the pixel that you need, sample it using the provided sample_bernoulli() function, and write the result into the image.\n",
    "\n",
    "To sample an image from scratch, you will create a matrix of 28x28 zeros as your starting point.\n",
    "\n",
    "To sample the bottom half of a test image, you will use the test image as the starting point and then sample the 14-th row down to the bottom.\n",
    "\n"
   ]
  },
  {
   "cell_type": "code",
   "execution_count": 0,
   "metadata": {
    "colab": {},
    "colab_type": "code",
    "id": "3U3Tx4892sqJ"
   },
   "outputs": [],
   "source": [
    "from tensorflow.keras.callbacks import LambdaCallback\n",
    "\n",
    "def sample_bernoulli(p):\n",
    "  \"\"\" Sample a matrix of binary values given a matrix of probability values \"\"\"\n",
    "  return np.random.uniform(size=p.shape) < p\n",
    "\n",
    "def sample_image_from_scratch():\n",
    "  \"\"\" Samples an image using the model, starting from all zeros \"\"\"\n",
    "  pass\n",
    "\n",
    "def complete_bottom_half(index):\n",
    "  \"\"\" Starting with the top half of the i-th test image, samples the bottom half\"\"\"\n",
    "  pass\n",
    "\n",
    "def on_epoch_end(epoch, _):\n",
    "  print()\n",
    "  \n",
    "  # sample an image from scratch and show it\n",
    "  # complete the bottom half of the first test image and show it\n",
    "\n",
    "# this callback will test sampling after every epoch\n",
    "image_callback = LambdaCallback(on_epoch_end=on_epoch_end)"
   ]
  },
  {
   "cell_type": "markdown",
   "metadata": {
    "colab_type": "text",
    "id": "e3eDbxePrapD"
   },
   "source": [
    "### Training the PixelCNN model\n",
    "\n",
    "The PixelCNN is designed to make max-likelihood training simple.  The model's pdf is easy to compute because of the autoregressive nature of the model:\n",
    "\n",
    "$$p(x_1,\\ldots,x_n) = p(x_1)p(x_2|x_1)\\ldots,p(x_n|x_1,\\ldots,x_{n-1})$$\n",
    "\n",
    "$$\\log p(x_1,\\ldots,x_n) = \\sum_i \\log p(x_i|x_1,\\ldots,x_{i-1})$$\n",
    "\n",
    "To compute the negative log likelihood of a training example, we simply run the model with the training example as input and sum up the per-pixel cross entropy loss.\n",
    "\n",
    "Since we have binary data, we will use the binary cross-entropy loss function.\n",
    "\n",
    "There is nothing for you to implement here -- I am just explaining to you what it is doing internally :)"
   ]
  },
  {
   "cell_type": "code",
   "execution_count": 0,
   "metadata": {
    "colab": {},
    "colab_type": "code",
    "id": "2kONjUGdyG-L"
   },
   "outputs": [],
   "source": [
    "from tensorflow.keras.optimizers import Adam\n",
    "optimizer = Adam(lr=0.001)\n",
    "model.compile(loss='binary_crossentropy', optimizer=optimizer)"
   ]
  },
  {
   "cell_type": "code",
   "execution_count": 0,
   "metadata": {
    "colab": {},
    "colab_type": "code",
    "id": "5Bz0jbpBMwIt"
   },
   "outputs": [],
   "source": [
    "model.fit(x_train, x_train,\n",
    "          batch_size=16,\n",
    "          epochs=10,\n",
    "          callbacks=[image_callback])"
   ]
  },
  {
   "cell_type": "markdown",
   "metadata": {
    "colab_type": "text",
    "id": "ERb6QcDrsr-Y"
   },
   "source": [
    "### Exercises\n",
    "\n",
    "* Complete the implementation of the masked convolution layer (above)\n",
    "* Implement the PixelCNN model (above)\n",
    "* Implement the sampling functions (above)\n",
    "* Once the model has finished training, sample a large number of images and try to determine whether the network exhibits mode collapse, like GANs sometimes do.  \n",
    "* Critical thinking questions (no code required): Can the PixelCNN auto-complete the **top half** of an image? If not, how would you modify the network to do that?  How could you make it auto-complete the left or right halves?"
   ]
  },
  {
   "cell_type": "code",
   "execution_count": 0,
   "metadata": {
    "colab": {},
    "colab_type": "code",
    "id": "qU7XkoRWs2Hu"
   },
   "outputs": [],
   "source": []
  }
 ],
 "metadata": {
  "colab": {
   "collapsed_sections": [],
   "name": "mnist_pixelcnn.ipynb",
   "provenance": [],
   "version": "0.3.2"
  },
  "kernelspec": {
   "display_name": "Python 3",
   "language": "python",
   "name": "python3"
  },
  "language_info": {
   "codemirror_mode": {
    "name": "ipython",
    "version": 3
   },
   "file_extension": ".py",
   "mimetype": "text/x-python",
   "name": "python",
   "nbconvert_exporter": "python",
   "pygments_lexer": "ipython3",
   "version": "3.6.8"
  }
 },
 "nbformat": 4,
 "nbformat_minor": 1
}
