{
 "cells": [
  {
   "cell_type": "markdown",
   "metadata": {
    "colab_type": "text",
    "id": "L1LI-KXcowZu"
   },
   "source": [
    "# Separating spirals with a multi-layer perceptron\n",
    "\n",
    "This notebook explores how a feedforward neural network can learn to separate spiraling curves.  A linear classifier is unable to separate the curves.  But, by adding hidden layers with non-linear activations, the multi-layer perceptron is able to transorm the curves into linearly separable clusters."
   ]
  },
  {
   "cell_type": "code",
   "execution_count": 1,
   "metadata": {
    "colab": {},
    "colab_type": "code",
    "id": "RlzCvZdVowZw"
   },
   "outputs": [
    {
     "ename": "ImportError",
     "evalue": "Traceback (most recent call last):\n  File \"/home/eric/anaconda3/envs/tensorflow-gpu/lib/python3.6/site-packages/tensorflow/python/pywrap_tensorflow.py\", line 58, in <module>\n    from tensorflow.python.pywrap_tensorflow_internal import *\n  File \"/home/eric/anaconda3/envs/tensorflow-gpu/lib/python3.6/site-packages/tensorflow/python/pywrap_tensorflow_internal.py\", line 28, in <module>\n    _pywrap_tensorflow_internal = swig_import_helper()\n  File \"/home/eric/anaconda3/envs/tensorflow-gpu/lib/python3.6/site-packages/tensorflow/python/pywrap_tensorflow_internal.py\", line 24, in swig_import_helper\n    _mod = imp.load_module('_pywrap_tensorflow_internal', fp, pathname, description)\n  File \"/home/eric/anaconda3/envs/tensorflow-gpu/lib/python3.6/imp.py\", line 243, in load_module\n    return load_dynamic(name, filename, file)\n  File \"/home/eric/anaconda3/envs/tensorflow-gpu/lib/python3.6/imp.py\", line 343, in load_dynamic\n    return _load(spec)\nImportError: libcuda.so.1: cannot open shared object file: No such file or directory\n\n\nFailed to load the native TensorFlow runtime.\n\nSee https://www.tensorflow.org/install/errors\n\nfor some common reasons and solutions.  Include the entire stack trace\nabove this error message when asking for help.",
     "output_type": "error",
     "traceback": [
      "\u001b[0;31m---------------------------------------------------------------------------\u001b[0m",
      "\u001b[0;31mImportError\u001b[0m                               Traceback (most recent call last)",
      "\u001b[0;32m~/anaconda3/envs/tensorflow-gpu/lib/python3.6/site-packages/tensorflow/python/pywrap_tensorflow.py\u001b[0m in \u001b[0;36m<module>\u001b[0;34m\u001b[0m\n\u001b[1;32m     57\u001b[0m \u001b[0;34m\u001b[0m\u001b[0m\n\u001b[0;32m---> 58\u001b[0;31m   \u001b[0;32mfrom\u001b[0m \u001b[0mtensorflow\u001b[0m\u001b[0;34m.\u001b[0m\u001b[0mpython\u001b[0m\u001b[0;34m.\u001b[0m\u001b[0mpywrap_tensorflow_internal\u001b[0m \u001b[0;32mimport\u001b[0m \u001b[0;34m*\u001b[0m\u001b[0;34m\u001b[0m\u001b[0;34m\u001b[0m\u001b[0m\n\u001b[0m\u001b[1;32m     59\u001b[0m   \u001b[0;32mfrom\u001b[0m \u001b[0mtensorflow\u001b[0m\u001b[0;34m.\u001b[0m\u001b[0mpython\u001b[0m\u001b[0;34m.\u001b[0m\u001b[0mpywrap_tensorflow_internal\u001b[0m \u001b[0;32mimport\u001b[0m \u001b[0m__version__\u001b[0m\u001b[0;34m\u001b[0m\u001b[0;34m\u001b[0m\u001b[0m\n",
      "\u001b[0;32m~/anaconda3/envs/tensorflow-gpu/lib/python3.6/site-packages/tensorflow/python/pywrap_tensorflow_internal.py\u001b[0m in \u001b[0;36m<module>\u001b[0;34m\u001b[0m\n\u001b[1;32m     27\u001b[0m             \u001b[0;32mreturn\u001b[0m \u001b[0m_mod\u001b[0m\u001b[0;34m\u001b[0m\u001b[0;34m\u001b[0m\u001b[0m\n\u001b[0;32m---> 28\u001b[0;31m     \u001b[0m_pywrap_tensorflow_internal\u001b[0m \u001b[0;34m=\u001b[0m \u001b[0mswig_import_helper\u001b[0m\u001b[0;34m(\u001b[0m\u001b[0;34m)\u001b[0m\u001b[0;34m\u001b[0m\u001b[0;34m\u001b[0m\u001b[0m\n\u001b[0m\u001b[1;32m     29\u001b[0m     \u001b[0;32mdel\u001b[0m \u001b[0mswig_import_helper\u001b[0m\u001b[0;34m\u001b[0m\u001b[0;34m\u001b[0m\u001b[0m\n",
      "\u001b[0;32m~/anaconda3/envs/tensorflow-gpu/lib/python3.6/site-packages/tensorflow/python/pywrap_tensorflow_internal.py\u001b[0m in \u001b[0;36mswig_import_helper\u001b[0;34m()\u001b[0m\n\u001b[1;32m     23\u001b[0m             \u001b[0;32mtry\u001b[0m\u001b[0;34m:\u001b[0m\u001b[0;34m\u001b[0m\u001b[0;34m\u001b[0m\u001b[0m\n\u001b[0;32m---> 24\u001b[0;31m                 \u001b[0m_mod\u001b[0m \u001b[0;34m=\u001b[0m \u001b[0mimp\u001b[0m\u001b[0;34m.\u001b[0m\u001b[0mload_module\u001b[0m\u001b[0;34m(\u001b[0m\u001b[0;34m'_pywrap_tensorflow_internal'\u001b[0m\u001b[0;34m,\u001b[0m \u001b[0mfp\u001b[0m\u001b[0;34m,\u001b[0m \u001b[0mpathname\u001b[0m\u001b[0;34m,\u001b[0m \u001b[0mdescription\u001b[0m\u001b[0;34m)\u001b[0m\u001b[0;34m\u001b[0m\u001b[0;34m\u001b[0m\u001b[0m\n\u001b[0m\u001b[1;32m     25\u001b[0m             \u001b[0;32mfinally\u001b[0m\u001b[0;34m:\u001b[0m\u001b[0;34m\u001b[0m\u001b[0;34m\u001b[0m\u001b[0m\n",
      "\u001b[0;32m~/anaconda3/envs/tensorflow-gpu/lib/python3.6/imp.py\u001b[0m in \u001b[0;36mload_module\u001b[0;34m(name, file, filename, details)\u001b[0m\n\u001b[1;32m    242\u001b[0m         \u001b[0;32melse\u001b[0m\u001b[0;34m:\u001b[0m\u001b[0;34m\u001b[0m\u001b[0;34m\u001b[0m\u001b[0m\n\u001b[0;32m--> 243\u001b[0;31m             \u001b[0;32mreturn\u001b[0m \u001b[0mload_dynamic\u001b[0m\u001b[0;34m(\u001b[0m\u001b[0mname\u001b[0m\u001b[0;34m,\u001b[0m \u001b[0mfilename\u001b[0m\u001b[0;34m,\u001b[0m \u001b[0mfile\u001b[0m\u001b[0;34m)\u001b[0m\u001b[0;34m\u001b[0m\u001b[0;34m\u001b[0m\u001b[0m\n\u001b[0m\u001b[1;32m    244\u001b[0m     \u001b[0;32melif\u001b[0m \u001b[0mtype_\u001b[0m \u001b[0;34m==\u001b[0m \u001b[0mPKG_DIRECTORY\u001b[0m\u001b[0;34m:\u001b[0m\u001b[0;34m\u001b[0m\u001b[0;34m\u001b[0m\u001b[0m\n",
      "\u001b[0;32m~/anaconda3/envs/tensorflow-gpu/lib/python3.6/imp.py\u001b[0m in \u001b[0;36mload_dynamic\u001b[0;34m(name, path, file)\u001b[0m\n\u001b[1;32m    342\u001b[0m             name=name, loader=loader, origin=path)\n\u001b[0;32m--> 343\u001b[0;31m         \u001b[0;32mreturn\u001b[0m \u001b[0m_load\u001b[0m\u001b[0;34m(\u001b[0m\u001b[0mspec\u001b[0m\u001b[0;34m)\u001b[0m\u001b[0;34m\u001b[0m\u001b[0;34m\u001b[0m\u001b[0m\n\u001b[0m\u001b[1;32m    344\u001b[0m \u001b[0;34m\u001b[0m\u001b[0m\n",
      "\u001b[0;31mImportError\u001b[0m: libcuda.so.1: cannot open shared object file: No such file or directory",
      "\nDuring handling of the above exception, another exception occurred:\n",
      "\u001b[0;31mImportError\u001b[0m                               Traceback (most recent call last)",
      "\u001b[0;32m<ipython-input-1-9eb9abf7d1a2>\u001b[0m in \u001b[0;36m<module>\u001b[0;34m\u001b[0m\n\u001b[1;32m      1\u001b[0m \u001b[0;32mimport\u001b[0m \u001b[0mnumpy\u001b[0m \u001b[0;32mas\u001b[0m \u001b[0mnp\u001b[0m\u001b[0;34m\u001b[0m\u001b[0;34m\u001b[0m\u001b[0m\n\u001b[0;32m----> 2\u001b[0;31m \u001b[0;32mfrom\u001b[0m \u001b[0mtensorflow\u001b[0m\u001b[0;34m.\u001b[0m\u001b[0mkeras\u001b[0m\u001b[0;34m.\u001b[0m\u001b[0mlayers\u001b[0m \u001b[0;32mimport\u001b[0m \u001b[0mInput\u001b[0m\u001b[0;34m,\u001b[0m \u001b[0mDense\u001b[0m\u001b[0;34m\u001b[0m\u001b[0;34m\u001b[0m\u001b[0m\n\u001b[0m\u001b[1;32m      3\u001b[0m \u001b[0;32mfrom\u001b[0m \u001b[0mtensorflow\u001b[0m\u001b[0;34m.\u001b[0m\u001b[0mkeras\u001b[0m\u001b[0;34m.\u001b[0m\u001b[0mmodels\u001b[0m \u001b[0;32mimport\u001b[0m \u001b[0mModel\u001b[0m\u001b[0;34m\u001b[0m\u001b[0;34m\u001b[0m\u001b[0m\n\u001b[1;32m      4\u001b[0m \u001b[0;32mfrom\u001b[0m \u001b[0mtensorflow\u001b[0m\u001b[0;34m.\u001b[0m\u001b[0mkeras\u001b[0m\u001b[0;34m.\u001b[0m\u001b[0moptimizers\u001b[0m \u001b[0;32mimport\u001b[0m \u001b[0mSGD\u001b[0m\u001b[0;34m\u001b[0m\u001b[0;34m\u001b[0m\u001b[0m\n\u001b[1;32m      5\u001b[0m \u001b[0;32mfrom\u001b[0m \u001b[0mtensorflow\u001b[0m\u001b[0;34m.\u001b[0m\u001b[0mkeras\u001b[0m\u001b[0;34m.\u001b[0m\u001b[0mutils\u001b[0m \u001b[0;32mimport\u001b[0m \u001b[0mto_categorical\u001b[0m\u001b[0;34m\u001b[0m\u001b[0;34m\u001b[0m\u001b[0m\n",
      "\u001b[0;32m~/anaconda3/envs/tensorflow-gpu/lib/python3.6/site-packages/tensorflow/__init__.py\u001b[0m in \u001b[0;36m<module>\u001b[0;34m\u001b[0m\n\u001b[1;32m     22\u001b[0m \u001b[0;34m\u001b[0m\u001b[0m\n\u001b[1;32m     23\u001b[0m \u001b[0;31m# pylint: disable=g-bad-import-order\u001b[0m\u001b[0;34m\u001b[0m\u001b[0;34m\u001b[0m\u001b[0;34m\u001b[0m\u001b[0m\n\u001b[0;32m---> 24\u001b[0;31m \u001b[0;32mfrom\u001b[0m \u001b[0mtensorflow\u001b[0m\u001b[0;34m.\u001b[0m\u001b[0mpython\u001b[0m \u001b[0;32mimport\u001b[0m \u001b[0mpywrap_tensorflow\u001b[0m  \u001b[0;31m# pylint: disable=unused-import\u001b[0m\u001b[0;34m\u001b[0m\u001b[0;34m\u001b[0m\u001b[0m\n\u001b[0m\u001b[1;32m     25\u001b[0m \u001b[0;34m\u001b[0m\u001b[0m\n\u001b[1;32m     26\u001b[0m \u001b[0;32mtry\u001b[0m\u001b[0;34m:\u001b[0m\u001b[0;34m\u001b[0m\u001b[0;34m\u001b[0m\u001b[0m\n",
      "\u001b[0;32m~/anaconda3/envs/tensorflow-gpu/lib/python3.6/site-packages/tensorflow/python/__init__.py\u001b[0m in \u001b[0;36m<module>\u001b[0;34m\u001b[0m\n\u001b[1;32m     47\u001b[0m \u001b[0;32mimport\u001b[0m \u001b[0mnumpy\u001b[0m \u001b[0;32mas\u001b[0m \u001b[0mnp\u001b[0m\u001b[0;34m\u001b[0m\u001b[0;34m\u001b[0m\u001b[0m\n\u001b[1;32m     48\u001b[0m \u001b[0;34m\u001b[0m\u001b[0m\n\u001b[0;32m---> 49\u001b[0;31m \u001b[0;32mfrom\u001b[0m \u001b[0mtensorflow\u001b[0m\u001b[0;34m.\u001b[0m\u001b[0mpython\u001b[0m \u001b[0;32mimport\u001b[0m \u001b[0mpywrap_tensorflow\u001b[0m\u001b[0;34m\u001b[0m\u001b[0;34m\u001b[0m\u001b[0m\n\u001b[0m\u001b[1;32m     50\u001b[0m \u001b[0;34m\u001b[0m\u001b[0m\n\u001b[1;32m     51\u001b[0m \u001b[0;32mfrom\u001b[0m \u001b[0mtensorflow\u001b[0m\u001b[0;34m.\u001b[0m\u001b[0mpython\u001b[0m\u001b[0;34m.\u001b[0m\u001b[0mtools\u001b[0m \u001b[0;32mimport\u001b[0m \u001b[0mcomponent_api_helper\u001b[0m\u001b[0;34m\u001b[0m\u001b[0;34m\u001b[0m\u001b[0m\n",
      "\u001b[0;32m~/anaconda3/envs/tensorflow-gpu/lib/python3.6/site-packages/tensorflow/python/pywrap_tensorflow.py\u001b[0m in \u001b[0;36m<module>\u001b[0;34m\u001b[0m\n\u001b[1;32m     72\u001b[0m \u001b[0;32mfor\u001b[0m \u001b[0msome\u001b[0m \u001b[0mcommon\u001b[0m \u001b[0mreasons\u001b[0m \u001b[0;32mand\u001b[0m \u001b[0msolutions\u001b[0m\u001b[0;34m.\u001b[0m  \u001b[0mInclude\u001b[0m \u001b[0mthe\u001b[0m \u001b[0mentire\u001b[0m \u001b[0mstack\u001b[0m \u001b[0mtrace\u001b[0m\u001b[0;34m\u001b[0m\u001b[0;34m\u001b[0m\u001b[0m\n\u001b[1;32m     73\u001b[0m above this error message when asking for help.\"\"\" % traceback.format_exc()\n\u001b[0;32m---> 74\u001b[0;31m   \u001b[0;32mraise\u001b[0m \u001b[0mImportError\u001b[0m\u001b[0;34m(\u001b[0m\u001b[0mmsg\u001b[0m\u001b[0;34m)\u001b[0m\u001b[0;34m\u001b[0m\u001b[0;34m\u001b[0m\u001b[0m\n\u001b[0m\u001b[1;32m     75\u001b[0m \u001b[0;34m\u001b[0m\u001b[0m\n\u001b[1;32m     76\u001b[0m \u001b[0;31m# pylint: enable=wildcard-import,g-import-not-at-top,unused-import,line-too-long\u001b[0m\u001b[0;34m\u001b[0m\u001b[0;34m\u001b[0m\u001b[0;34m\u001b[0m\u001b[0m\n",
      "\u001b[0;31mImportError\u001b[0m: Traceback (most recent call last):\n  File \"/home/eric/anaconda3/envs/tensorflow-gpu/lib/python3.6/site-packages/tensorflow/python/pywrap_tensorflow.py\", line 58, in <module>\n    from tensorflow.python.pywrap_tensorflow_internal import *\n  File \"/home/eric/anaconda3/envs/tensorflow-gpu/lib/python3.6/site-packages/tensorflow/python/pywrap_tensorflow_internal.py\", line 28, in <module>\n    _pywrap_tensorflow_internal = swig_import_helper()\n  File \"/home/eric/anaconda3/envs/tensorflow-gpu/lib/python3.6/site-packages/tensorflow/python/pywrap_tensorflow_internal.py\", line 24, in swig_import_helper\n    _mod = imp.load_module('_pywrap_tensorflow_internal', fp, pathname, description)\n  File \"/home/eric/anaconda3/envs/tensorflow-gpu/lib/python3.6/imp.py\", line 243, in load_module\n    return load_dynamic(name, filename, file)\n  File \"/home/eric/anaconda3/envs/tensorflow-gpu/lib/python3.6/imp.py\", line 343, in load_dynamic\n    return _load(spec)\nImportError: libcuda.so.1: cannot open shared object file: No such file or directory\n\n\nFailed to load the native TensorFlow runtime.\n\nSee https://www.tensorflow.org/install/errors\n\nfor some common reasons and solutions.  Include the entire stack trace\nabove this error message when asking for help."
     ]
    }
   ],
   "source": [
    "import numpy as np\n",
    "from tensorflow.keras.layers import Input, Dense\n",
    "from tensorflow.keras.models import Model\n",
    "from tensorflow.keras.optimizers import SGD\n",
    "from tensorflow.keras.utils import to_categorical\n",
    "from tensorflow.keras.regularizers import l2\n",
    "import matplotlib as mpl\n",
    "from matplotlib import pyplot as plt\n",
    "import shutil\n",
    "import tempfile\n",
    "import urllib.request"
   ]
  },
  {
   "cell_type": "markdown",
   "metadata": {
    "colab_type": "text",
    "id": "UNnZtAf1owZ2"
   },
   "source": [
    "## Data loading and preprocessing\n",
    "\n",
    "First we load the spiral dataset, obtained from [a clustering benchmark website](http://cs.joensuu.fi/sipu/datasets/).   The first two columns contain the 2D coordinates of the points to be clustered and the third column contains the category labels."
   ]
  },
  {
   "cell_type": "code",
   "execution_count": 2,
   "metadata": {
    "colab": {},
    "colab_type": "code",
    "id": "YQ5pQTSgowZ3"
   },
   "outputs": [],
   "source": [
    "# get data from web and store to temporary file\n",
    "with urllib.request.urlopen('http://cs.joensuu.fi/sipu/datasets/spiral.txt') as response:\n",
    "    with tempfile.NamedTemporaryFile(delete=False) as tmp_file:\n",
    "        shutil.copyfileobj(response, tmp_file)\n",
    "data = np.loadtxt(tmp_file.name,delimiter='\\t') # load data into numpy array\n",
    "np.random.shuffle(data)  # shuffle the data so that the examples are randomly ordered\n",
    "x = data[:,0:2] # extract the 2D coordinates of the points\n",
    "y = data[:,2]-1 # extract the class labels and convert to zero-based indexing"
   ]
  },
  {
   "cell_type": "markdown",
   "metadata": {
    "colab_type": "text",
    "id": "dRUdIJa4owZ6"
   },
   "source": [
    "We convert the integer labels to \"one hot\" vectors, which is the form used by Keras for categorical classification problems."
   ]
  },
  {
   "cell_type": "code",
   "execution_count": 3,
   "metadata": {
    "colab": {
     "base_uri": "https://localhost:8080/",
     "height": 85
    },
    "colab_type": "code",
    "executionInfo": {
     "elapsed": 790,
     "status": "ok",
     "timestamp": 1546629885424,
     "user": {
      "displayName": "Jonathan Ventura",
      "photoUrl": "",
      "userId": "05473917219245109052"
     },
     "user_tz": 480
    },
    "id": "CPkSOEX6owZ7",
    "outputId": "46138b20-5ffc-45ca-f5cc-6c1445b30973"
   },
   "outputs": [
    {
     "name": "stdout",
     "output_type": "stream",
     "text": [
      "Shape of integer labels:  (312,)\n",
      "Shape of one hot labels:  (312, 3)\n",
      "Label as integer: 1.0\n",
      "Label as one hot vector:  [0. 1. 0.]\n"
     ]
    }
   ],
   "source": [
    "y_onehot = to_categorical(y,3)\n",
    "print('Shape of integer labels: ',y.shape)\n",
    "print('Shape of one hot labels: ',y_onehot.shape)\n",
    "print('Label as integer:',y[0])\n",
    "print('Label as one hot vector: ',y_onehot[0])"
   ]
  },
  {
   "cell_type": "markdown",
   "metadata": {
    "colab_type": "text",
    "id": "-Qz1p4ijowZ_"
   },
   "source": [
    "We preprocess the data removing the mean so that the data is centered at the origin.  This simple preprocessing is critical when training neural networks."
   ]
  },
  {
   "cell_type": "code",
   "execution_count": 4,
   "metadata": {
    "colab": {
     "base_uri": "https://localhost:8080/",
     "height": 51
    },
    "colab_type": "code",
    "executionInfo": {
     "elapsed": 781,
     "status": "ok",
     "timestamp": 1546629885424,
     "user": {
      "displayName": "Jonathan Ventura",
      "photoUrl": "",
      "userId": "05473917219245109052"
     },
     "user_tz": 480
    },
    "id": "3dTHUAJ1owaA",
    "outputId": "7dcd3063-3a78-4464-e967-38fd76bfcf52"
   },
   "outputs": [
    {
     "name": "stdout",
     "output_type": "stream",
     "text": [
      "Mean of x before centering:  [18.40817308 16.34471154]\n",
      "Mean of x after centering:  [ 3.09723757e-15 -1.08289446e-14]\n"
     ]
    }
   ],
   "source": [
    "x_zerocentered = x - np.mean(x,axis=0,keepdims=True)\n",
    "print('Mean of x before centering: ',np.mean(x,axis=0))\n",
    "print('Mean of x after centering: ',np.mean(x_zerocentered,axis=0))"
   ]
  },
  {
   "cell_type": "markdown",
   "metadata": {
    "colab_type": "text",
    "id": "MleP-escowaD"
   },
   "source": [
    "Here we plot the points and color code them to show the different classes."
   ]
  },
  {
   "cell_type": "code",
   "execution_count": 5,
   "metadata": {
    "colab": {
     "base_uri": "https://localhost:8080/",
     "height": 362
    },
    "colab_type": "code",
    "executionInfo": {
     "elapsed": 1339,
     "status": "ok",
     "timestamp": 1546629885992,
     "user": {
      "displayName": "Jonathan Ventura",
      "photoUrl": "",
      "userId": "05473917219245109052"
     },
     "user_tz": 480
    },
    "id": "BEqB2zbMowaE",
    "outputId": "c8dbdef2-7223-46e7-e865-e8c3306242da"
   },
   "outputs": [
    {
     "data": {
      "image/png": "[encoded data removed]",
      "text/plain": [
       "<Figure size 432x288 with 1 Axes>"
      ]
     },
     "metadata": {
      "needs_background": "light"
     },
     "output_type": "display_data"
    }
   ],
   "source": [
    "for i in range(3):\n",
    "    sel = y_onehot[:,i]==1\n",
    "    plt.plot(x_zerocentered[sel,0],x[sel,1],'.',label='Group %d'%i)\n",
    "plt.title('Spiral dataset')\n",
    "plt.legend()\n",
    "plt.show()"
   ]
  },
  {
   "cell_type": "markdown",
   "metadata": {
    "colab_type": "text",
    "id": "hUFAs2ucowaI"
   },
   "source": [
    "## Linear classifier\n",
    "\n",
    "Here we build a linear classifier model in Keras to try to separate the points into three classes.  Because the linear classifier can only divide the space using straight lines, it will be unable to separate the curves.\n",
    "\n",
    "The linear classifier model learns to output a vector of logits $\\mathbf{z}$ using weight matrix $W$ and bias vector $\\mathbf{b}$:\n",
    "\n",
    "$$\\mathbf{z} = W\\mathbf{x}+\\mathbf{b}$$\n",
    "\n",
    "$z_i$ contains the logit for class $i$.  The probability $p(c_i|x)$ of assigning a data point $\\mathbf{x}$ to class $i$ is\n",
    "\n",
    "$$p(c_i|x) = \\frac{\\exp(z_i)}{\\sum_j \\exp(z_j)}$$.\n",
    "\n",
    "This is called the softmax function.  The corresponding loss function is $-\\log p(c|x)$, which is the categorical cross entropy:\n",
    "\n",
    "$$L(c_i|x) = -z_i+\\log(\\sum_j \\exp(z_j))$$"
   ]
  },
  {
   "cell_type": "code",
   "execution_count": 6,
   "metadata": {
    "colab": {
     "base_uri": "https://localhost:8080/",
     "height": 221
    },
    "colab_type": "code",
    "executionInfo": {
     "elapsed": 1327,
     "status": "ok",
     "timestamp": 1546629885992,
     "user": {
      "displayName": "Jonathan Ventura",
      "photoUrl": "",
      "userId": "05473917219245109052"
     },
     "user_tz": 480
    },
    "id": "I0BvIfbZowaP",
    "outputId": "ee786046-76f3-488d-cabb-29a7bea87aed"
   },
   "outputs": [
    {
     "name": "stdout",
     "output_type": "stream",
     "text": [
      "_________________________________________________________________\n",
      "Layer (type)                 Output Shape              Param #   \n",
      "=================================================================\n",
      "input_1 (InputLayer)         (None, 2)                 0         \n",
      "_________________________________________________________________\n",
      "dense (Dense)                (None, 3)                 9         \n",
      "=================================================================\n",
      "Total params: 9\n",
      "Trainable params: 9\n",
      "Non-trainable params: 0\n",
      "_________________________________________________________________\n",
      "None\n"
     ]
    }
   ],
   "source": [
    "inputs = Input(shape=(2,))  # Input layer: 2-dimensional vector\n",
    "outputs = Dense(3,activation='softmax')(inputs)   # Output layer: 3-dimensional vector\n",
    "model = Model(inputs=inputs,outputs=outputs)\n",
    "model.compile('rmsprop',loss='categorical_crossentropy',metrics=['accuracy'])\n",
    "print(model.summary())"
   ]
  },
  {
   "cell_type": "markdown",
   "metadata": {
    "colab_type": "text",
    "id": "RWkgSlFbowaS"
   },
   "source": [
    "To learn the model we apply mini-batch gradient descent using the categorical cross-entropy loss function.  We track the accuracy of the classifier during training.\n",
    "\n",
    "By checking the accuracy of the model of the training, we can see that the linear classifier is only able to reach about 30% or 40% accuracy."
   ]
  },
  {
   "cell_type": "code",
   "execution_count": 7,
   "metadata": {
    "colab": {
     "base_uri": "https://localhost:8080/",
     "height": 34
    },
    "colab_type": "code",
    "executionInfo": {
     "elapsed": 3338,
     "status": "ok",
     "timestamp": 1546629888012,
     "user": {
      "displayName": "Jonathan Ventura",
      "photoUrl": "",
      "userId": "05473917219245109052"
     },
     "user_tz": 480
    },
    "id": "6uJiRKizowaT",
    "outputId": "7cfe9d4c-6794-437b-9e4e-21ae7c12454e"
   },
   "outputs": [
    {
     "name": "stdout",
     "output_type": "stream",
     "text": [
      "Final accuracy of classifier:  36.21794879436493\n"
     ]
    }
   ],
   "source": [
    "\n",
    "def train_model(model,epochs=100,validation_split=0):\n",
    "  history = model.fit(x_zerocentered,y_onehot,batch_size=10,epochs=epochs,verbose=False,validation_split=validation_split)\n",
    "  results = model.evaluate(x_zerocentered,y_onehot,verbose=False)\n",
    "  print('Final accuracy of classifier: ',results[1]*100)\n",
    "  return history\n",
    "\n",
    "history = train_model(model,epochs=50)"
   ]
  },
  {
   "cell_type": "markdown",
   "metadata": {
    "colab_type": "text",
    "id": "dyaNpM36owaX"
   },
   "source": [
    "Here we plot the points again and color code them with the label predicted by the linear classifier.\n",
    "\n",
    "The decision regions used to separate the classes are apparent from the color coding."
   ]
  },
  {
   "cell_type": "code",
   "execution_count": 8,
   "metadata": {
    "colab": {
     "base_uri": "https://localhost:8080/",
     "height": 362
    },
    "colab_type": "code",
    "executionInfo": {
     "elapsed": 3740,
     "status": "ok",
     "timestamp": 1546629888424,
     "user": {
      "displayName": "Jonathan Ventura",
      "photoUrl": "",
      "userId": "05473917219245109052"
     },
     "user_tz": 480
    },
    "id": "Mew65IQnowaY",
    "outputId": "438d6cd2-a164-448e-c8c2-fa8854c847bf"
   },
   "outputs": [
    {
     "data": {
      "image/png": "[encoded data removed]",
      "text/plain": [
       "<Figure size 432x288 with 1 Axes>"
      ]
     },
     "metadata": {
      "needs_background": "light"
     },
     "output_type": "display_data"
    }
   ],
   "source": [
    "def plot_result(model):\n",
    "  y_pred = np.argmax(model.predict(x_zerocentered),axis=-1)\n",
    "  for i in range(3):\n",
    "      sel = y_pred==i\n",
    "      plt.plot(x_zerocentered[sel,0],x_zerocentered[sel,1],'.',label='Group %d'%i)\n",
    "  plt.title('Linear classifier result')\n",
    "  plt.legend()\n",
    "  plt.show()\n",
    "  \n",
    "plot_result(model)"
   ]
  },
  {
   "cell_type": "markdown",
   "metadata": {
    "colab_type": "text",
    "id": "aza7Yncqowaa"
   },
   "source": [
    "## Multi-layer Perceptron\n",
    "\n",
    "Now we will build a simple feed-forward neural network called a multi-layer perceptron (MLP) to learn to better separate the spiral curves.  The MLP composes several linear classifiers together and adds non-linear activations $\\sigma(\\cdot)$ between them:\n",
    "\n",
    "$$z_i = W_2 \\sigma( W_1 x + b_1 ) + b_2$$\n",
    "\n",
    "The internal, \"hidden\" layers of the MLP represent consecutive transformations of the input features.  By the end of the transformation sequence, the data should be transformed in such a way that a linear classifier can successfully separate the different classes.  The MLP learns how to \"unwrap\" the spirals, in a sense.\n",
    "\n",
    "In this example we use two hidden layers with ReLU activation:\n",
    "\n",
    "$$\\sigma(x) = \\max(0,x)$$\n",
    "\n",
    "and we add a third layer with linear activation and two neurons.  We call this layer the \"embedding\" layer.  While in practice it would not make sense to use such a small bottleneck layer or linear activation, we use it here so that we can easily visualize how the network learns to transform the input space to a linearly separable output space.\n",
    "\n",
    "Note the huge increase in parameters over the linear classifier model which had only nine parameters.  Our MLP model has about 10,000 parameters."
   ]
  },
  {
   "cell_type": "code",
   "execution_count": 9,
   "metadata": {
    "colab": {
     "base_uri": "https://localhost:8080/",
     "height": 323
    },
    "colab_type": "code",
    "executionInfo": {
     "elapsed": 3891,
     "status": "ok",
     "timestamp": 1546629888584,
     "user": {
      "displayName": "Jonathan Ventura",
      "photoUrl": "",
      "userId": "05473917219245109052"
     },
     "user_tz": 480
    },
    "id": "Wamyvyfhowaa",
    "outputId": "37fcfcbc-9b08-49ce-a6e9-0cf7c5b63a6f"
   },
   "outputs": [
    {
     "name": "stdout",
     "output_type": "stream",
     "text": [
      "_________________________________________________________________\n",
      "Layer (type)                 Output Shape              Param #   \n",
      "=================================================================\n",
      "input_2 (InputLayer)         (None, 2)                 0         \n",
      "_________________________________________________________________\n",
      "dense_1 (Dense)              (None, 100)               300       \n",
      "_________________________________________________________________\n",
      "dense_2 (Dense)              (None, 100)               10100     \n",
      "_________________________________________________________________\n",
      "dense_3 (Dense)              (None, 2)                 200       \n",
      "_________________________________________________________________\n",
      "dense_4 (Dense)              (None, 3)                 9         \n",
      "=================================================================\n",
      "Total params: 10,609\n",
      "Trainable params: 10,609\n",
      "Non-trainable params: 0\n",
      "_________________________________________________________________\n",
      "None\n"
     ]
    }
   ],
   "source": [
    "def build_mlp_model(num_hidden_layers=2,num_hidden_units=100,activation='relu'):  \n",
    "  inputs = Input(shape=(2,))  # Input layer: 2-dimensional vector\n",
    "  \n",
    "  hidden = inputs\n",
    "  for i in range(num_hidden_layers):\n",
    "    hidden = Dense(num_hidden_units,activation=activation)(hidden) # hidden layers\n",
    "    \n",
    "  embedding = Dense(2,activation=None,use_bias=False)(hidden) # embedding layer: 2 neurons, linear activation\n",
    "  \n",
    "  outputs = Dense(3,activation='softmax')(embedding) # output layer: 3-dimensional vector with softmax activation\n",
    "  \n",
    "  mlp = Model(inputs=inputs,outputs=outputs) # MLP model for end-to-end training\n",
    "  encoder = Model(inputs=inputs,outputs=embedding) # Encoder model for visualizing the embedding\n",
    "  \n",
    "  mlp.compile('rmsprop',loss='categorical_crossentropy',metrics=['accuracy'])\n",
    "  \n",
    "  return mlp, encoder\n",
    "\n",
    "mlp, encoder = build_mlp_model(num_hidden_layers=2,num_hidden_units=100,activation='relu')\n",
    "print(mlp.summary())"
   ]
  },
  {
   "cell_type": "code",
   "execution_count": 10,
   "metadata": {
    "colab": {
     "base_uri": "https://localhost:8080/",
     "height": 34
    },
    "colab_type": "code",
    "executionInfo": {
     "elapsed": 8376,
     "status": "ok",
     "timestamp": 1546629893076,
     "user": {
      "displayName": "Jonathan Ventura",
      "photoUrl": "",
      "userId": "05473917219245109052"
     },
     "user_tz": 480
    },
    "id": "UlXmbWz3owac",
    "outputId": "2d0ec9f4-7f54-4746-aa6c-d3d4fb92d010"
   },
   "outputs": [
    {
     "name": "stdout",
     "output_type": "stream",
     "text": [
      "Final accuracy of classifier:  100.0\n"
     ]
    }
   ],
   "source": [
    "def train_mlp_model(mlp,epochs=100,validation_split=0):\n",
    "  history = mlp.fit(x_zerocentered,y_onehot,batch_size=10,epochs=epochs,verbose=False,validation_split=validation_split)\n",
    "  results = mlp.evaluate(x_zerocentered,y_onehot,verbose=False)\n",
    "  print('Final accuracy of classifier: ',results[1]*100)\n",
    "  return history\n",
    "\n",
    "history = train_mlp_model(mlp,epochs=100,validation_split=0)"
   ]
  },
  {
   "cell_type": "markdown",
   "metadata": {
    "colab_type": "text",
    "id": "V27wiZ8Bowad"
   },
   "source": [
    "Here we plot the progression of the model's accuracy on the training data throughout the training process.\n",
    "\n",
    "Our MLP model is able to perfectly separate all of the classes with 100% accuracy.\n"
   ]
  },
  {
   "cell_type": "code",
   "execution_count": 11,
   "metadata": {
    "colab": {
     "base_uri": "https://localhost:8080/",
     "height": 376
    },
    "colab_type": "code",
    "executionInfo": {
     "elapsed": 8829,
     "status": "ok",
     "timestamp": 1546629893535,
     "user": {
      "displayName": "Jonathan Ventura",
      "photoUrl": "",
      "userId": "05473917219245109052"
     },
     "user_tz": 480
    },
    "id": "-hHRKgHCowad",
    "outputId": "65ce7287-c6fa-420f-8067-a006a1d8b01b"
   },
   "outputs": [
    {
     "data": {
      "image/png": "[encoded data removed]",
      "text/plain": [
       "<Figure size 432x288 with 1 Axes>"
      ]
     },
     "metadata": {
      "needs_background": "light"
     },
     "output_type": "display_data"
    }
   ],
   "source": [
    "def plot_history(history):\n",
    "  plt.plot(history.history['acc'],label='train')\n",
    "  if 'val_acc' in history.history:\n",
    "    plt.plot(history.history['val_acc'],label='val')\n",
    "  plt.xlabel('Epoch')\n",
    "  plt.ylabel('Accuracy')\n",
    "  plt.legend()\n",
    "  plt.title('Accuracy during Training')\n",
    "  plt.show()\n",
    "\n",
    "plot_history(history)"
   ]
  },
  {
   "cell_type": "markdown",
   "metadata": {
    "colab_type": "text",
    "id": "jwdbh6RbTQ0E"
   },
   "source": [
    "Plotting the classification result shows that the MLP classifier is able to separate the curves in a way that the linear classifier could not."
   ]
  },
  {
   "cell_type": "code",
   "execution_count": 12,
   "metadata": {
    "colab": {
     "base_uri": "https://localhost:8080/",
     "height": 362
    },
    "colab_type": "code",
    "executionInfo": {
     "elapsed": 9031,
     "status": "ok",
     "timestamp": 1546629893746,
     "user": {
      "displayName": "Jonathan Ventura",
      "photoUrl": "",
      "userId": "05473917219245109052"
     },
     "user_tz": 480
    },
    "id": "Bax8Llhzowah",
    "outputId": "40b3918b-b45a-4baf-b1e5-bc05076afff1"
   },
   "outputs": [
    {
     "data": {
      "image/png": "[encoded data removed]",
      "text/plain": [
       "<Figure size 432x288 with 1 Axes>"
      ]
     },
     "metadata": {
      "needs_background": "light"
     },
     "output_type": "display_data"
    }
   ],
   "source": [
    "plot_result(mlp)"
   ]
  },
  {
   "cell_type": "markdown",
   "metadata": {
    "colab_type": "text",
    "id": "UiinAl76owaj"
   },
   "source": [
    "Here we plot the embedding vectors produced by the MLP model.  The spiral curves have been transformed into distinct clusters, making the final linear classifier's job easy."
   ]
  },
  {
   "cell_type": "code",
   "execution_count": 13,
   "metadata": {
    "colab": {
     "base_uri": "https://localhost:8080/",
     "height": 362
    },
    "colab_type": "code",
    "executionInfo": {
     "elapsed": 9480,
     "status": "ok",
     "timestamp": 1546629894204,
     "user": {
      "displayName": "Jonathan Ventura",
      "photoUrl": "",
      "userId": "05473917219245109052"
     },
     "user_tz": 480
    },
    "id": "c5PKZQr0owaj",
    "outputId": "4a786a4d-93ff-4a1a-bb6a-12153d3f97e6"
   },
   "outputs": [
    {
     "data": {
      "image/png": "[encoded data removed]",
      "text/plain": [
       "<Figure size 432x288 with 1 Axes>"
      ]
     },
     "metadata": {
      "needs_background": "light"
     },
     "output_type": "display_data"
    }
   ],
   "source": [
    "def plot_embedding(encoder):\n",
    "  h = encoder.predict(x_zerocentered)\n",
    "  for i in range(3):\n",
    "      sel = y==i\n",
    "      plt.plot(h[sel,0],h[sel,1],'.',label='Group %d'%i)\n",
    "  plt.title('MLP embedding')\n",
    "  plt.legend()\n",
    "  plt.show()\n",
    "  \n",
    "plot_embedding(encoder)"
   ]
  },
  {
   "cell_type": "markdown",
   "metadata": {
    "colab_type": "text",
    "id": "VyT4J5Tgowal"
   },
   "source": [
    "## Exercises\n",
    "\n",
    "1. Try removing the ReLU activations in the MLP.  What happens?  Why?\n",
    "1. Try other activations such as sigmoid and tanh to see if they work as well as ReLU.  You might need to increase the number of epochs.\n",
    "1. We used two hidden layers with 100 units each for our MLP, resulting in a model with over 10,000 parameters.  Try changing the number of hidden layers and hidden units to see if there is a lower or upper limit on the model size with this dataset.\n",
    "1. Compare using a large number of hidden layers and a small number of hidden units (deep network) versus using a single hidden layer and a large number of hidden units (wide network).  Which is better?  Consider the number of parameters in the network and the accuracy of the results.\n",
    "1. Try reserving a validation split of the data using the validation_split argument to train_mlp_model().  Is our MLP model able to generalize to unseen data?"
   ]
  },
  {
   "cell_type": "markdown",
   "metadata": {
    "colab": {},
    "colab_type": "code",
    "id": "CLfxXneVUS4e"
   },
   "source": [
    "## Responses\n",
    "1. When the ReLU activations in the MLP are removed, the accuracy of the model degrades to the accuracy of our linear classifier. Since all of our layers are now linear, the final activation function in the final layer is just a linear combination of the previous layers. Our model can now be represented as a linear classifier, which cannot accurately classify the points in the spiral."
   ]
  },
  {
   "cell_type": "code",
   "execution_count": 14,
   "metadata": {},
   "outputs": [
    {
     "name": "stdout",
     "output_type": "stream",
     "text": [
      "Final accuracy of classifier:  32.37179494821108\n"
     ]
    }
   ],
   "source": [
    "mlp, encoder = build_mlp_model(num_hidden_layers=2,num_hidden_units=100,activation=None)\n",
    "history = train_mlp_model(mlp,epochs=100,validation_split=0)"
   ]
  },
  {
   "cell_type": "markdown",
   "metadata": {
    "colab": {},
    "colab_type": "code",
    "id": "CLfxXneVUS4e"
   },
   "source": [
    "2. The sigmoid function classified the dataset with 61% accuracy and tanh performed just as well as relu."
   ]
  },
  {
   "cell_type": "code",
   "execution_count": 17,
   "metadata": {},
   "outputs": [
    {
     "name": "stdout",
     "output_type": "stream",
     "text": [
      "Final accuracy of classifier:  61.217948870781136\n",
      "Final accuracy of classifier:  100.0\n"
     ]
    }
   ],
   "source": [
    "#Sigmoid and Tanh activations\n",
    "mlp, _ = build_mlp_model(num_hidden_layers=2,num_hidden_units=100,activation='sigmoid')\n",
    "_ = train_mlp_model(mlp,epochs=120,validation_split=0)\n",
    "mlp, _ = build_mlp_model(num_hidden_layers=2,num_hidden_units=100,activation='tanh')\n",
    "_ = train_mlp_model(mlp,epochs=120,validation_split=0)"
   ]
  },
  {
   "cell_type": "markdown",
   "metadata": {
    "colab": {},
    "colab_type": "code",
    "id": "CLfxXneVUS4e"
   },
   "source": [
    "3. My experimentation resulted in a lower limit of two hidden layers with 26 units in each layer as the minimum MLP to still reach 100% accuracy. This MLP has 841 parameters."
   ]
  },
  {
   "cell_type": "code",
   "execution_count": 21,
   "metadata": {},
   "outputs": [
    {
     "name": "stdout",
     "output_type": "stream",
     "text": [
      "Final accuracy of classifier:  100.0\n",
      "_________________________________________________________________\n",
      "Layer (type)                 Output Shape              Param #   \n",
      "=================================================================\n",
      "input_13 (InputLayer)        (None, 2)                 0         \n",
      "_________________________________________________________________\n",
      "dense_45 (Dense)             (None, 26)                78        \n",
      "_________________________________________________________________\n",
      "dense_46 (Dense)             (None, 26)                702       \n",
      "_________________________________________________________________\n",
      "dense_47 (Dense)             (None, 2)                 52        \n",
      "_________________________________________________________________\n",
      "dense_48 (Dense)             (None, 3)                 9         \n",
      "=================================================================\n",
      "Total params: 841\n",
      "Trainable params: 841\n",
      "Non-trainable params: 0\n",
      "_________________________________________________________________\n",
      "None\n"
     ]
    }
   ],
   "source": [
    "mlp, _ = build_mlp_model(num_hidden_layers=2,num_hidden_units=26,activation='relu')\n",
    "_ = train_mlp_model(mlp,epochs=100,validation_split=0)\n",
    "print(mlp.summary())"
   ]
  },
  {
   "cell_type": "markdown",
   "metadata": {
    "colab": {},
    "colab_type": "code",
    "id": "CLfxXneVUS4e"
   },
   "source": [
    "4. A deep network obtains more accurate results, but has more parameters. A wide network has less parameter, but is less accurate. The deeper nework is better because it is more accurate.\n",
    "\n",
    "| Hidden Layers | Hidden Units Per Layer | Parameters | Accuracy |\n",
    "|------|------|------|------|\n",
    "| 10 | 1 | 32 | 33.9 |\n",
    "| 10 | 2 | 73 | 33.9 |\n",
    "| 10 | 5 | 304 | 57.6 |\n",
    "| 10 | 10 | 1049 | 94.8 |\n",
    "| 10 | 20 | 3,889 | 100 |\n",
    "| 1 | 10 | 59 | 53.5 |\n",
    "| 1 | 20 | 109 | 80.7 |\n",
    "| 1 | 50 | 259 | 83.3 |\n",
    "| 1 | 100 | 509 | 89.1 |\n",
    "| 1 | 200 | 1,009 | 96.7 |"
   ]
  },
  {
   "cell_type": "code",
   "execution_count": 22,
   "metadata": {},
   "outputs": [
    {
     "name": "stdout",
     "output_type": "stream",
     "text": [
      "_________________________________________________________________\n",
      "Layer (type)                 Output Shape              Param #   \n",
      "=================================================================\n",
      "input_14 (InputLayer)        (None, 2)                 0         \n",
      "_________________________________________________________________\n",
      "dense_49 (Dense)             (None, 20)                60        \n",
      "_________________________________________________________________\n",
      "dense_50 (Dense)             (None, 20)                420       \n",
      "_________________________________________________________________\n",
      "dense_51 (Dense)             (None, 20)                420       \n",
      "_________________________________________________________________\n",
      "dense_52 (Dense)             (None, 20)                420       \n",
      "_________________________________________________________________\n",
      "dense_53 (Dense)             (None, 20)                420       \n",
      "_________________________________________________________________\n",
      "dense_54 (Dense)             (None, 20)                420       \n",
      "_________________________________________________________________\n",
      "dense_55 (Dense)             (None, 20)                420       \n",
      "_________________________________________________________________\n",
      "dense_56 (Dense)             (None, 20)                420       \n",
      "_________________________________________________________________\n",
      "dense_57 (Dense)             (None, 20)                420       \n",
      "_________________________________________________________________\n",
      "dense_58 (Dense)             (None, 20)                420       \n",
      "_________________________________________________________________\n",
      "dense_59 (Dense)             (None, 2)                 40        \n",
      "_________________________________________________________________\n",
      "dense_60 (Dense)             (None, 3)                 9         \n",
      "=================================================================\n",
      "Total params: 3,889\n",
      "Trainable params: 3,889\n",
      "Non-trainable params: 0\n",
      "_________________________________________________________________\n",
      "None\n",
      "Final accuracy of classifier:  100.0\n"
     ]
    }
   ],
   "source": [
    "#A large number of hidden layers and a small number of hidden units (deep network). \n",
    "mlp, encoder = build_mlp_model(num_hidden_layers=10,num_hidden_units=20,activation='relu')\n",
    "print(mlp.summary())\n",
    "history = train_mlp_model(mlp,epochs=100,validation_split=0)"
   ]
  },
  {
   "cell_type": "code",
   "execution_count": 23,
   "metadata": {},
   "outputs": [
    {
     "name": "stdout",
     "output_type": "stream",
     "text": [
      "_________________________________________________________________\n",
      "Layer (type)                 Output Shape              Param #   \n",
      "=================================================================\n",
      "input_15 (InputLayer)        (None, 2)                 0         \n",
      "_________________________________________________________________\n",
      "dense_61 (Dense)             (None, 200)               600       \n",
      "_________________________________________________________________\n",
      "dense_62 (Dense)             (None, 2)                 400       \n",
      "_________________________________________________________________\n",
      "dense_63 (Dense)             (None, 3)                 9         \n",
      "=================================================================\n",
      "Total params: 1,009\n",
      "Trainable params: 1,009\n",
      "Non-trainable params: 0\n",
      "_________________________________________________________________\n",
      "None\n",
      "Final accuracy of classifier:  91.66666681949908\n"
     ]
    }
   ],
   "source": [
    "#A single hidden layer and a large number of hidden units (wide network). \\\n",
    "mlp, encoder = build_mlp_model(num_hidden_layers=1,num_hidden_units=200,activation='relu')\n",
    "print(mlp.summary())\n",
    "history = train_mlp_model(mlp,epochs=100,validation_split=0)"
   ]
  },
  {
   "cell_type": "markdown",
   "metadata": {},
   "source": [
    "5. Yes, even when reserving a validation split of the data, our MLP model is able to generalize to unseen data."
   ]
  },
  {
   "cell_type": "code",
   "execution_count": 29,
   "metadata": {},
   "outputs": [
    {
     "name": "stdout",
     "output_type": "stream",
     "text": [
      "Final accuracy of classifier:  100.0\n"
     ]
    }
   ],
   "source": [
    "mlp, _ = build_mlp_model(num_hidden_layers=2,num_hidden_units=100,activation='relu')\n",
    "_ = train_mlp_model(mlp,epochs=100,validation_split=0.15)"
   ]
  },
  {
   "cell_type": "code",
   "execution_count": null,
   "metadata": {},
   "outputs": [],
   "source": []
  }
 ],
 "metadata": {
  "colab": {
   "collapsed_sections": [],
   "name": "spirals.ipynb",
   "provenance": [],
   "toc_visible": true,
   "version": "0.3.2"
  },
  "kernelspec": {
   "display_name": "Python 3",
   "language": "python",
   "name": "python3"
  },
  "language_info": {
   "codemirror_mode": {
    "name": "ipython",
    "version": 3
   },
   "file_extension": ".py",
   "mimetype": "text/x-python",
   "name": "python",
   "nbconvert_exporter": "python",
   "pygments_lexer": "ipython3",
   "version": "3.6.8"
  }
 },
 "nbformat": 4,
 "nbformat_minor": 1
}
